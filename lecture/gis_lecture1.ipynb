{
 "cells": [
  {
   "cell_type": "markdown",
   "metadata": {},
   "source": [
    "## GIS 강의 1주차 \n",
    "\n",
    "---\n",
    "### 1.QGIS 개요\n",
    "\n",
    "### 2.공간데이터란?\n",
    "* 2-1) 공간데이터 종류 \n",
    "* 2-2) 좌표계 정의\n",
    "\n",
    "### 3.데이터 불러오기 \n",
    "\n",
    "* 3-1) shp파일 불러오기\n",
    "* 3-2) 배경지도 불러오기 \n",
    "* 3-3) 맵 탐색 \n",
    "* 3-4) 저장하기 \n",
    "\n",
    "### 4.속성테이블 \n",
    "* 4-1) 속성테이블 UI \n",
    "* 4-2) 속성값 편집합기 \n",
    "\n",
    "### 5.csv 파일 불러오기 \n",
    "* 5-1) csv 파일 불러오기 \n",
    "\n",
    "### 6.QGIS 기능 탐색 \n",
    "* 6-1) 공간결합\n",
    "* 6-2) 폴리곤이 포함하는 포인트 개수 계산 \n",
    "* 6-3) 중첩분석(잘라내기,교차,디졸브,버퍼) \n",
    "* 6-4) 히트맵 \n",
    "\n",
    "### 7.reference\n",
    "* 공간정보 데이터 참고자료 \n",
    "\n",
    "----\n"
   ]
  },
  {
   "cell_type": "markdown",
   "metadata": {},
   "source": [
    "### 1. QGIS란? \n",
    "무료 오픈소스 지리정보 시스템 Tool로서 여러 공간정보 파일 시각화 및 여러 플러그인을 통하여 손쉽게 사용 가능 \n",
    "\n",
    "QGIS 다운로드 : [QGIS download](https://qgis.org/ko/site/forusers/download.html)\n",
    "\n",
    "QGiS 인터페이스 \n",
    "\n",
    "<img width=\"667\" alt=\"스크린샷 2022-09-05 오전 9 45 25\" src=\"https://user-images.githubusercontent.com/83544197/188340429-f628ebdd-ff41-42be-9017-5155c3d60d65.png\">\n",
    "\n",
    "\n",
    "\n",
    "---"
   ]
  },
  {
   "cell_type": "markdown",
   "metadata": {},
   "source": [
    "### 2. 공간데이터란?\n",
    "#### 2-1) 공간데이터 타입 \n",
    "\n",
    "* Vector : GIS의 객체를 표현하는 방법으로, Point, Line, Area(Polygon) 를 벡터로 표현 할 수 있다 (아래 그림 참고)\n",
    "\n",
    "* Raster : 하나의 이미지\n",
    "\n",
    "\n",
    "<img src=\"https://user-images.githubusercontent.com/83544197/187896714-417a1b66-1ef5-44ea-bb81-3476a3b715a5.jpeg\" witdh=\"250\" height=\"250\"/>\n",
    "\n",
    "\n",
    "\n",
    "\n",
    "**shp : 점들의 위치정보를 가지고 있는 파일**\n",
    "\n",
    "dbf : 속성값\n",
    "\n",
    "shx : 점 들의 위치 색인(index) 파일\n",
    "\n",
    "qpj : QGIS에서 사용하는 좌표계 정보 파일.\n",
    "\n",
    "**prj : 해당 파일의 좌표계 정보를 가진 파일**\n",
    "\n",
    "---"
   ]
  },
  {
   "cell_type": "markdown",
   "metadata": {},
   "source": [
    "## 좌표계(Coordinate reference system, CRS) 란?\n",
    "실제 좌표계가 있는 데이터를 사용할 때 가장 난감한 부분이 좌표계를 어떤걸 써서 여러 데이터를 결합할 수 있을 것인가 이다. <br>\n",
    "\n",
    "**WGS84, GRS80,UTM-K, EPSG 코드, 혹은 다음과 같은 좌표 정보**\n",
    " {'proj': 'tmerc', 'lat_0': 38, 'lon_0': 127.5, 'k': 0.9996, 'x_0': 1000000, 'y_0': 2000000, 'ellps': 'GRS80', 'units': 'm', 'no_defs': True}\n",
    "\n",
    " 좌표계를 깊게 이해하고 싶다면 [좌표계 이해하기](https://blog.naver.com/PostView.nhn?blogId=heejin9867&logNo=221330301521&parentCategoryNo=&categoryNo=44&viewDate=&isShowPopularPosts=true&from=search) 를 \n",
    " 통해 이해하는 것을 추천 한다. \n",
    "\n",
    " 간략하게만 정리 지구는 구체가 아니라 타원체이며, 실제로는 매우 울퉁불퉁한 모양을 지니고 있다. \n",
    "\n",
    "\n",
    "\n",
    "<img src=\"https://user-images.githubusercontent.com/83544197/187908888-89b20576-f021-4423-9a5f-483a9ae1a8a1.png\" witdh=\"250\" height=\"250\"/>\n",
    "\n",
    "\n",
    "* 지오이드 : 수학적,물리적으로 정의된 지표면 형태\n",
    "* 지구타원체 : 지오이드와 가장 유사하게 정의된 타원체 (계산을 위해)\n",
    "* 지표면 : 실제 지표면 형태 \n",
    "\n",
    "즉 각 지역별로 다른 타원체와 중심좌표로 좌표계를 정의하고 있으며 아래 3가지를 확인하면 GIS 좌표계를 사용하는 것에는 문제가 없다고 판단된다.\n",
    "\n",
    "\n",
    "\t1. 미터법으로 표현되어있는가?\n",
    "\t2. 도법[Ex)180.32 도] 으로 표현되어 있는가? \n",
    "\t3. EPSG코드가 무엇인가? (= 타원체가 뭐고 중심 좌표는 어디인가?)\n",
    "\n",
    "[좌표계 모음 사이트](https://www.osgeo.kr/17)\n",
    "\n",
    "---"
   ]
  },
  {
   "cell_type": "markdown",
   "metadata": {},
   "source": [
    "## QGIS 데이터 불러오기\n",
    "QGIS 사용을 위한 예제 shp파일은 해당 [링크](http://www.gisdeveloper.co.kr/?p=2332) 에서 '시군구 파일 2022년 3월 업데이트 다운로드' 하면 [sig.shp,sig.prj...] 등의 파일이 있는지 확인\n",
    "\n",
    "#### 0) QGIS 실행 후 상단의 '플러그인' 클릭 후 korea 검색하여 설치 \n",
    "\n",
    "<img src='https://user-images.githubusercontent.com/83544197/187917621-3a7b4f81-6407-4cb2-925f-ca2fe175b0e7.png' width =\"400\" height=\"200\"> <br>\n",
    "\n",
    "#### 1) QGIS 실행 후 '데이터 원본 관리자 클릭'\n",
    "\n",
    "\n",
    "<img src=\"https://user-images.githubusercontent.com/83544197/187912001-2408e2da-ed88-4a04-a7f6-44e1210cb47e.png\" width=\"500\" height=\"100\"/> <br>\n",
    "\n",
    "\n",
    "#### 2)'벡터' -> '벡터 데이터셋에 shp 파일 추가' \n",
    "\n",
    "<img src=\"https://user-images.githubusercontent.com/83544197/187912534-bd77b198-c844-46c6-9a5c-b5031cc40ed6.png\" width=\"500\" height=\"100\">\n",
    "\n",
    "#### 3) 웹 -> 플러그인 '카카오맵' 으로 지도 확인 \n",
    "<img src=\"https://user-images.githubusercontent.com/83544197/187926097-cf887aa9-ebcd-44b0-b9b4-6e0fecfccfa3.png\" width=\"500\" height=\"500\">\n",
    "\n",
    "---"
   ]
  },
  {
   "cell_type": "markdown",
   "metadata": {},
   "source": [
    "### QGIS 사용하기 \n",
    "\n",
    "#### 1) 속성테이블 사용하기 \n",
    "1-1) 레이어에서 속성 테이블 클릭 <br>\n",
    "\n",
    "<img src = \"https://user-images.githubusercontent.com/83544197/187928769-51447d78-cda5-4f78-a225-306a8ddb80e2.png\"> <br>\n",
    "\n",
    "1-2) 속성 테이블을 이용하여 시군구 코드가 '11' (서울)인 애들만 추출하기 \n",
    "\n",
    "<img src = \"https://user-images.githubusercontent.com/83544197/187929295-c4645f63-24b9-47ea-b3aa-5fe585593b1f.png\"> <br>\n",
    "\n",
    "1-3) 선택한 객체만 추출하여 새로운 레이어로 만들기 \n",
    "\n",
    "<img src = \"https://user-images.githubusercontent.com/83544197/187930044-c6393ae1-f328-4051-8a63-9ec74dd659d2.png\"> <br>\n",
    "\n",
    "1-4) 서울 데이터 추출 완료 \n",
    "\n",
    "<img src = \"https://user-images.githubusercontent.com/83544197/187930319-2600913d-9db8-44d7-b4b7-84683d89148a.png\"> <br>\n",
    "\n",
    "#### 2) 좌표가 있는 csv 파일 추가하기 \n",
    "\n",
    "예제로 사용 된데이터는 dacon의 퇴근시간 [제주도 버스승차인원 예측 경진대회 데이터](https://dacon.io/en/competitions/official/229255/data)를 사용하였다. \n",
    "\n",
    "2-1) csv 파일 QGIS 에 추가하기 \n",
    "\n",
    "<img src = \"https://user-images.githubusercontent.com/83544197/187931598-dc200dcd-69ed-44a8-8e4d-6850f1de806e.png\"> <br>\n",
    "\n",
    "2-2) csv 파일 좌표계 설정해주기 (예제 데이터는 WGS84 = EPSG4326)\n",
    "\n",
    "<img src = \"https://user-images.githubusercontent.com/83544197/187933022-a8c66e1c-9ae3-4fe5-a612-bae5081f4ef8.png\"> <br>\n",
    "\n",
    "2-3) 두 레이어 데이터 확인 \n",
    "\n",
    "<img src = \"https://user-images.githubusercontent.com/83544197/187933312-82591bad-cac6-42ec-9b67-935299d4133d.png\"> <br>\n",
    "\n",
    "3) 프로젝트 저장 \n",
    "프로젝트 저장 후 qgz 확장자 파일을 불러와서 사용 "
   ]
  },
  {
   "cell_type": "markdown",
   "metadata": {},
   "source": [
    "### 2주차 강의는 shp 파일을 이용하여 python에서 데이터 불러오기, 지도 띄우기, 공간 데이터 결합하기 진행, 3주차 강의는 공간 상관성과 공간통계등을 다룰 예정 "
   ]
  },
  {
   "cell_type": "code",
   "execution_count": null,
   "metadata": {},
   "outputs": [],
   "source": []
  }
 ],
 "metadata": {
  "kernelspec": {
   "display_name": "Python 3.8.2 ('myenv3')",
   "language": "python",
   "name": "python3"
  },
  "language_info": {
   "codemirror_mode": {
    "name": "ipython",
    "version": 3
   },
   "file_extension": ".py",
   "mimetype": "text/x-python",
   "name": "python",
   "nbconvert_exporter": "python",
   "pygments_lexer": "ipython3",
   "version": "3.8.2"
  },
  "orig_nbformat": 4,
  "vscode": {
   "interpreter": {
    "hash": "c99c53633d471aff0dfeb0bd4543ea3200bb232d4e166bea309cfa33682006e3"
   }
  }
 },
 "nbformat": 4,
 "nbformat_minor": 2
}
