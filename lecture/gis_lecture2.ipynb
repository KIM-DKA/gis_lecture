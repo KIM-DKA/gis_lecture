{
 "cells": [
  {
   "cell_type": "markdown",
   "metadata": {},
   "source": [
    "## **GIS 강의 2주차**\n",
    "\n",
    "---\n",
    "\n",
    "### **1.Geopandas 패키지 설치**\n",
    "* 1-1) pip 로 Geopandas 설치시 나는 오루 \n",
    "* 1-2) 해결방법 \n",
    "\n",
    "### **2.파일 불러오기**\n",
    "* 2-1) shp 파일 불러오기 \n",
    "* 2-2) csv 파일 불러오기 \n",
    "\n",
    "### **3.공간 데이터 핸들링**\n",
    "* 3-1) 데이터 핸들링 \n",
    "* 3-2) csv 파일의 x,y 컬럼을 공간 데이터(GeoDataframe) 로 변환 \n",
    "* 3-3) 좌표계 변환하기 \n",
    "\n",
    "### **4.Geopandas로 공간 속성 다루기**\n",
    "* 4-1) 면적 (area) \n",
    "* 4-2) 길이\n",
    "* 4-3) 도형의 무게중심\n",
    "* 4-4) boundary 확인 \n",
    "* 4-5) 공간의 유효성 확인 \n",
    "* 4-6) 유효한 도형으로 만들기 \n",
    "\n",
    "### **5.shapley 패키지 사용하여 shape 만들기**\n",
    "* 5-1) 점(Point)\n",
    "* 5-2) 선(LineString) \n",
    "* 5-3) 도형(Polygon) \n",
    "* 5-4) 한번에 여러 도형 만들기 (점,선,면))\n",
    "\n",
    "### **6.공간데이터 활용하기**\n",
    "* 6-1) 버퍼(buffer)\n",
    "* 6-2) 도형을 감싸는 사각형 그리기(envelope) \n",
    "* 6-3) 도형 융해(dissolve)\n",
    "* 6-4) 도형끼리 겹치는 부분 처리하기(overlay)\n",
    "\n",
    "### **7.공간 데이터 결합**\n",
    "* 7-1) 여러 공간 결합 방법들 \n",
    "* 7-2) 결합 방법별 결과\n",
    "\n",
    "### **8.저장하기**\n",
    "* 8-1) shp 파일로 저장하기 \n",
    "\n",
    "### **9.Reference\n",
    "* 9-1) ref \n",
    "\n",
    "----\n"
   ]
  },
  {
   "cell_type": "markdown",
   "metadata": {},
   "source": [
    "### **1.QGIS개요** \n",
    "\n",
    "* 무료 오픈소스 지리정보 시스템 Tool로서 공간정보 파일 시각화 및 여러 플러그인을 통하여 손쉽게 사용 가능 \n",
    "\n",
    "* QGIS 다운로드 : [QGIS download](https://qgis.org/ko/site/forusers/download.html)\n",
    "\n",
    "* QGiS 인터페이스 \n",
    "\n",
    "<img width=\"667\" alt=\"스크린샷 2022-09-05 오전 9 45 25\" src=\"https://user-images.githubusercontent.com/83544197/188340429-f628ebdd-ff41-42be-9017-5155c3d60d65.png\">\n",
    "\n",
    "<br>\n",
    "\n",
    "---"
   ]
  },
  {
   "cell_type": "code",
   "execution_count": null,
   "metadata": {},
   "outputs": [],
   "source": []
  },
  {
   "cell_type": "code",
   "execution_count": null,
   "metadata": {},
   "outputs": [],
   "source": []
  },
  {
   "cell_type": "code",
   "execution_count": null,
   "metadata": {},
   "outputs": [],
   "source": []
  },
  {
   "cell_type": "code",
   "execution_count": null,
   "metadata": {},
   "outputs": [],
   "source": []
  },
  {
   "cell_type": "code",
   "execution_count": null,
   "metadata": {},
   "outputs": [],
   "source": []
  }
 ],
 "metadata": {
  "kernelspec": {
   "display_name": "Python 3.8.13 ('gis_env': conda)",
   "language": "python",
   "name": "python3"
  },
  "language_info": {
   "name": "python",
   "version": "3.8.13"
  },
  "orig_nbformat": 4,
  "vscode": {
   "interpreter": {
    "hash": "1b9e7c2ea28868547de4e8fa83b847dd5adaa7ee059c2730ea8783ea0843a309"
   }
  }
 },
 "nbformat": 4,
 "nbformat_minor": 2
}
