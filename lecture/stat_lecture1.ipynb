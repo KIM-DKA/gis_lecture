{
 "cells": [
  {
   "cell_type": "markdown",
   "metadata": {},
   "source": [
    "##  통계/수학 강의 1주차 \n",
    "\n",
    "---\n",
    "* Eigen value 복습\n",
    "\n",
    "* Singular value decomposition\n",
    "\n",
    "* PCA\n",
    "\n",
    "* probability density function 정의 \n",
    "\n",
    "----"
   ]
  },
  {
   "cell_type": "markdown",
   "metadata": {},
   "source": [
    "어떤 벡터 x를 선형변환(A) 시키더라도 방향은 유지된 상태로 원래 벡터의 상수배($\\lambda$) 가 되는 값과 벡터를 고유값과 고유벡터라 한다. <br> $Ax = \\lambda x$ 이를 좌변으로 이항해 주면 (A-$\\lambda$)x = 0 행렬식으로 x=0이 아니라면 \n",
    "$\\det(A-\\lambda I) = 0 $ <br>\n",
    "\n",
    "\n",
    "$ A = \n",
    "\\begin{bmatrix}\n",
    "2 & 1 \\\\\n",
    "1 & 2\n",
    "\\end{bmatrix}\n",
    "$\n",
    "\n",
    "이를 위 식에 정리하면 \n",
    "\n",
    "$\\det(A-\\lambda I) = \\det(\n",
    "\\begin{bmatrix}\n",
    "2-\\lambda & 1 \\\\\n",
    "1 & 2-\\lambda\n",
    "\\end{bmatrix}\n",
    ")\n",
    "$\n",
    "\n",
    "이를 정리하면 $(2-\\lambda)^2-1$ 즉 $\\lambda = 1,3이 된다.$즉 n by n matrix는 n개의 고유값과 고유 벡터를 갖는다.\n",
    "\n"
   ]
  },
  {
   "cell_type": "code",
   "execution_count": 1,
   "metadata": {},
   "outputs": [],
   "source": [
    "import numpy as np \n",
    "from numpy.linalg import eig"
   ]
  },
  {
   "cell_type": "code",
   "execution_count": 9,
   "metadata": {},
   "outputs": [
    {
     "name": "stdout",
     "output_type": "stream",
     "text": [
      "eigen value : [3. 1.]\n",
      "eigen vector : [[ 0.70710678 -0.70710678]\n",
      " [ 0.70710678  0.70710678]]\n"
     ]
    }
   ],
   "source": [
    "A = np.array([[2,1],\n",
    "\t\t\t  [1,2]])\n",
    "\n",
    "val,vec = eig(A)\n",
    "\n",
    "print('eigen value :',val)\n",
    "print('eigen vector :',vec)"
   ]
  },
  {
   "cell_type": "markdown",
   "metadata": {},
   "source": [
    "정방(sqaure) 행렬 A의 고유값과 고유벡터를 다음과 같이 표현해보자, eigen value : $\\lambda_{1}, \\lambda_{2} ... \\lambda_{n}$ eigen vector : $v_{1}, v_{2}, ... v_{n} $ <br>\n",
    "\n",
    "즉 고유벡터행렬 V"
   ]
  },
  {
   "cell_type": "markdown",
   "metadata": {},
   "source": []
  },
  {
   "cell_type": "code",
   "execution_count": 6,
   "metadata": {},
   "outputs": [
    {
     "data": {
      "text/plain": [
       "1.4142135623730951"
      ]
     },
     "execution_count": 6,
     "metadata": {},
     "output_type": "execute_result"
    }
   ],
   "source": [
    "2**0.5"
   ]
  },
  {
   "cell_type": "code",
   "execution_count": null,
   "metadata": {},
   "outputs": [],
   "source": []
  }
 ],
 "metadata": {
  "kernelspec": {
   "display_name": "Python 3.8.2 ('myenv3')",
   "language": "python",
   "name": "python3"
  },
  "language_info": {
   "codemirror_mode": {
    "name": "ipython",
    "version": 3
   },
   "file_extension": ".py",
   "mimetype": "text/x-python",
   "name": "python",
   "nbconvert_exporter": "python",
   "pygments_lexer": "ipython3",
   "version": "3.8.2"
  },
  "orig_nbformat": 4,
  "vscode": {
   "interpreter": {
    "hash": "c99c53633d471aff0dfeb0bd4543ea3200bb232d4e166bea309cfa33682006e3"
   }
  }
 },
 "nbformat": 4,
 "nbformat_minor": 2
}
