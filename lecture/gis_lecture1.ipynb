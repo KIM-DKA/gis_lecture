{
 "cells": [
  {
   "cell_type": "markdown",
   "metadata": {},
   "source": [
    "## GIS 강의 1주차 \n",
    "\n",
    "---\n",
    "* QGIS 란?\n",
    "\n",
    "* 공간데이터 형태\n",
    "\n",
    "* 좌표계란?\n",
    "\n",
    "* QGIS 설치하기 \n",
    "\n",
    "* QGIS 데이터 불러오기 \n",
    "\n",
    "* QGIS 사용하기 \n",
    "\n",
    "* QGIS 데이터 저장하기 \n",
    "\n",
    "----\n"
   ]
  },
  {
   "cell_type": "markdown",
   "metadata": {},
   "source": [
    "## QGIS란? \n",
    "무료 오픈소스 지리정보 시스템 Tool로서 여러 공간정보 파일 시각화 및 여러 플러그인을 통하여 손쉽게 사용 가능 \n",
    "\n",
    "QGIS 다운로드 : [QGIS download](https://qgis.org/ko/site/forusers/download.html)\n",
    "\n",
    "---"
   ]
  },
  {
   "cell_type": "markdown",
   "metadata": {},
   "source": [
    "## 공간데이터 형태\n",
    "\n",
    "* Vector : GIS의 객체를 표현하는 방법으로, Point, Line, Area 를 벡터로 표현 할 수 있다 (아래 그림 참고)\n",
    "\n",
    "<img src=\"/Applications/anaconda3/envs/gis/image/vector_image.jpeg\" witdh=\"500\" height=\"500\"/>\n",
    "\n",
    "* Raster : 하나의 이미지\n",
    "\n",
    "\n",
    "\n",
    "\n",
    "​\n",
    "\n",
    "\n",
    "3가지가 있어야 QGIS에서 vector 레이터 추가로 활용 가능\n",
    "\n",
    "shp : 점들의 위치정보를 가지고 있는 파일\n",
    "\n",
    "dbf : 속성값\n",
    "\n",
    "shx : 점 들의 위치 색인(index) 파일\n",
    "\n",
    "qpj : QGIS에서 사용하는 좌표계 정보 파일.\n",
    "\n",
    "prj : 해당 파일의 좌표계 정보를 가진 파일 (ESRI에서도 사용 가능) # text 파일"
   ]
  },
  {
   "cell_type": "code",
   "execution_count": 4,
   "metadata": {},
   "outputs": [],
   "source": [
    "import os"
   ]
  },
  {
   "cell_type": "code",
   "execution_count": 5,
   "metadata": {},
   "outputs": [
    {
     "data": {
      "text/plain": [
       "'/Applications/anaconda3/envs/gis/lecture'"
      ]
     },
     "execution_count": 5,
     "metadata": {},
     "output_type": "execute_result"
    }
   ],
   "source": [
    "os.getcwd()"
   ]
  },
  {
   "cell_type": "code",
   "execution_count": null,
   "metadata": {},
   "outputs": [],
   "source": []
  }
 ],
 "metadata": {
  "kernelspec": {
   "display_name": "Python 3.8.2 ('myenv3')",
   "language": "python",
   "name": "python3"
  },
  "language_info": {
   "codemirror_mode": {
    "name": "ipython",
    "version": 3
   },
   "file_extension": ".py",
   "mimetype": "text/x-python",
   "name": "python",
   "nbconvert_exporter": "python",
   "pygments_lexer": "ipython3",
   "version": "3.8.2"
  },
  "orig_nbformat": 4,
  "vscode": {
   "interpreter": {
    "hash": "c99c53633d471aff0dfeb0bd4543ea3200bb232d4e166bea309cfa33682006e3"
   }
  }
 },
 "nbformat": 4,
 "nbformat_minor": 2
}
