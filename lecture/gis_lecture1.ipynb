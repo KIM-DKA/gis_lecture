{
 "cells": [
  {
   "cell_type": "markdown",
   "metadata": {},
   "source": [
    "## GIS 강의 1주차 \n",
    "\n",
    "* QGIS 란?\n",
    "\n",
    "* 좌표계란?\n",
    "\n",
    "* 공간데이터란? \n",
    "\n",
    "* QGIS 설치하기 \n",
    "\n",
    "* QGIS 데이터 불러오기 \n",
    "\n",
    "* QGIS 사용하기 \n",
    "* QGIS 데이터 저장하기 \n"
   ]
  },
  {
   "cell_type": "code",
   "execution_count": null,
   "metadata": {},
   "outputs": [],
   "source": []
  },
  {
   "cell_type": "code",
   "execution_count": null,
   "metadata": {},
   "outputs": [],
   "source": []
  },
  {
   "cell_type": "code",
   "execution_count": null,
   "metadata": {},
   "outputs": [],
   "source": []
  },
  {
   "cell_type": "code",
   "execution_count": null,
   "metadata": {},
   "outputs": [],
   "source": []
  },
  {
   "cell_type": "code",
   "execution_count": null,
   "metadata": {},
   "outputs": [],
   "source": []
  }
 ],
 "metadata": {
  "language_info": {
   "name": "python"
  },
  "orig_nbformat": 4
 },
 "nbformat": 4,
 "nbformat_minor": 2
}
