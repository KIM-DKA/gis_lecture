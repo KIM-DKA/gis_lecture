{
 "cells": [
  {
   "cell_type": "markdown",
   "metadata": {},
   "source": [
    "## **GIS 강의 2주차**\n",
    "\n",
    "---\n",
    "\n",
    "### **1. Geopandas 패키지 설치**\n",
    "* 1-1) pip 로 Geopandas 설치하기\n",
    "* 1-2) import library\n",
    "### **2. 파일 불러오기**\n",
    "* 2-1) shp 파일 불러오기 \n",
    "* 2-2) csv 파일 불러오기 \n",
    "\n",
    "### **3. 공간 데이터 핸들링**\n",
    "* 3-1) 데이터 핸들링 \n",
    "* 3-2) csv 파일의 x,y 컬럼을 공간 데이터(GeoDataframe) 로 변환 \n",
    "* 3-3) 좌표계 부여, 변환하기 \n",
    "\n",
    "### **4. Geopandas로 공간 속성 다루기**\n",
    "* 4-1) 면적 (area) \n",
    "* 4-2) 길이\n",
    "* 4-3) 도형의 무게중심\n",
    "* 4-4) boundary 확인 \n",
    "* 4-5) 공간의 유효성 확인 \n",
    "* 4-6) 유효한 도형으로 만들기 \n",
    "\n",
    "### **5. shapley 패키지 사용하여 shape 만들기**\n",
    "* 5-1) 점(Point)\n",
    "* 5-2) 선(LineString) \n",
    "* 5-3) 도형(Polygon) \n",
    "* 5-4) 한번에 여러 도형 만들기 (점,선,면))\n",
    "\n",
    "### **6. 공간데이터 활용하기**\n",
    "* 6-1) 버퍼(buffer)\n",
    "* 6-2) 도형을 감싸는 사각형 그리기(envelope) \n",
    "* 6-3) 도형 융해(dissolve)\n",
    "* 6-4) 도형끼리 겹치는 부분 처리하기(overlay)\n",
    "\n",
    "### **7. 공간 데이터 결합**\n",
    "* 7-1) 여러 공간 결합 방법들 \n",
    "* 7-2) 실제 데이터 응용하기\n",
    "\n",
    "### **8. 저장하기**\n",
    "* 8-1) shp 파일로 저장하기 \n",
    "\n",
    "### **9. Reference**\n",
    "* 9-1) ref \n",
    "\n",
    "차주 목표 : folium 패키지를 이용한 지도 시각화, plotly 를 통한 interactive 한 시각화, 공간통계 분석방법 \n",
    "\n",
    "----\n"
   ]
  },
  {
   "cell_type": "markdown",
   "metadata": {},
   "source": [
    "### **1. Geopandas 패키지 설치**\n",
    "#### 1-1) pip 로 Geopandas 설치하기 <br>\n",
    "  pip install 로 geopandas 를 설치하기 위해서는 [GDAl,pyproj,Fiona,Shapely]와 같은 패키지를 먼저 설치 후 <br>\n",
    "  geopandas 를 설치해야 geopandas 패키지를 사용할 수 있어 패키지의 Dependency 가 매우 높아 설치 시 많은 어려움이 따르고 있다. <br>\n",
    "  \n",
    "  이를 해결하기 위해 conda 에서 기본 패키지 다운로드 채널을 conda-forge 로 기본 채널 변경 후 <br>\n",
    "**conda install geopandas** 로 설치하는 것을 적극 권장한다. (회사 내부 anaconda 유료 이슈도 참고하길 바란다)\n",
    "\n",
    "  <img width=\"879\" alt=\"스크린샷 2022-09-22 오후 5 33 21\" src=\"https://user-images.githubusercontent.com/83544197/191699051-ceab12b4-461f-47c0-a755-3a25e5c07c38.png\">\n",
    "\n",
    "<br>\n",
    "\n",
    "---"
   ]
  },
  {
   "cell_type": "markdown",
   "metadata": {},
   "source": [
    "#### 1-2) import library <br>"
   ]
  },
  {
   "cell_type": "code",
   "execution_count": 2,
   "metadata": {},
   "outputs": [],
   "source": [
    "import os \n",
    "import sys \n",
    "import pandas as pd \n",
    "import numpy as np\n",
    "import matplotlib.pyplot as plt \n",
    "import geopandas as gpd \n",
    "import folium\n",
    "from shapely.geometry import Point, MultiPoint, LineString, MultiLineString, Polygon, MultiPolygon\n",
    "\n"
   ]
  },
  {
   "cell_type": "markdown",
   "metadata": {},
   "source": [
    "### **2. 파일 불러오기**\n",
    "#### 2-1) shp 파일 불러오기 <br>\n",
    "\n",
    "* 해당 [링크](http://www.gisdeveloper.co.kr/?p=2332) 에서 시도, 시군구, 행정동의 최신 shp 파일을 다운로드 \n",
    "* geopandas 설치후 아래와 같이 데이터를 불러와 준다.\n",
    "<br>\n"
   ]
  },
  {
   "cell_type": "code",
   "execution_count": 4,
   "metadata": {},
   "outputs": [
    {
     "data": {
      "text/plain": [
       "['starbucks.csv',\n",
       " 'seoul_starbucks.csv',\n",
       " 'korea_sig_shp',\n",
       " '.DS_Store',\n",
       " 'korea_adm_shp',\n",
       " 'korea_sido_shp']"
      ]
     },
     "execution_count": 4,
     "metadata": {},
     "output_type": "execute_result"
    }
   ],
   "source": [
    "file_path = '/Applications/anaconda3/envs/gis_env/git/shape/data'\n",
    "os.listdir(file_path)"
   ]
  },
  {
   "cell_type": "code",
   "execution_count": 5,
   "metadata": {},
   "outputs": [],
   "source": [
    "# 시도 \n",
    "korea_sido_shp = gpd.read_file(\n",
    "\tfile_path + '/korea_sido_shp/ctp_rvn.shp',\n",
    "\tencoding='EUC-KR'\n",
    ")\n",
    "\n",
    "# 시군구 \n",
    "korea_sig_shp = gpd.read_file(\n",
    "\tfile_path + '/korea_sig_shp/sig.shp',\n",
    "\tencoding='EUC-KR'\n",
    ")\n",
    "\n",
    "# 행정동 \n",
    "korea_adm_shp = gpd.read_file(\n",
    "\tfile_path + '/korea_adm_shp/emd.shp',\n",
    "\tencoding='EUC-KR'\n",
    ")\n"
   ]
  },
  {
   "cell_type": "markdown",
   "metadata": {},
   "source": [
    "---\n",
    "#### 2-2) csv 파일 불러오기 <br>\n",
    "* 해당 [링크](https://essim92.tistory.com/25) 에서 전국 스타벅스 가맹점 위치 데이터 다운로드 "
   ]
  },
  {
   "cell_type": "code",
   "execution_count": 25,
   "metadata": {},
   "outputs": [
    {
     "data": {
      "text/html": [
       "<div>\n",
       "<style scoped>\n",
       "    .dataframe tbody tr th:only-of-type {\n",
       "        vertical-align: middle;\n",
       "    }\n",
       "\n",
       "    .dataframe tbody tr th {\n",
       "        vertical-align: top;\n",
       "    }\n",
       "\n",
       "    .dataframe thead th {\n",
       "        text-align: right;\n",
       "    }\n",
       "</style>\n",
       "<table border=\"1\" class=\"dataframe\">\n",
       "  <thead>\n",
       "    <tr style=\"text-align: right;\">\n",
       "      <th></th>\n",
       "      <th>지점명</th>\n",
       "      <th>주소</th>\n",
       "      <th>위도</th>\n",
       "      <th>경도</th>\n",
       "    </tr>\n",
       "  </thead>\n",
       "  <tbody>\n",
       "    <tr>\n",
       "      <th>0</th>\n",
       "      <td>구로호텔</td>\n",
       "      <td>서울특별시 구로구 디지털로32길 72, 구로호텔 1층 (구로동)</td>\n",
       "      <td>37.483129</td>\n",
       "      <td>126.898859</td>\n",
       "    </tr>\n",
       "    <tr>\n",
       "      <th>1</th>\n",
       "      <td>구로디지털타워</td>\n",
       "      <td>서울특별시 구로구 디지털로32길 30 (구로동)</td>\n",
       "      <td>37.483432</td>\n",
       "      <td>126.896480</td>\n",
       "    </tr>\n",
       "    <tr>\n",
       "      <th>2</th>\n",
       "      <td>구로디지털로</td>\n",
       "      <td>서울특별시 구로구 디지털로33길 11, 에이스테크노8차 1층 (구로동)</td>\n",
       "      <td>37.485911</td>\n",
       "      <td>126.895587</td>\n",
       "    </tr>\n",
       "    <tr>\n",
       "      <th>3</th>\n",
       "      <td>구로에이스</td>\n",
       "      <td>서울특별시 구로구 디지털로 285, 에이스트윈타워1차 103호 (구로동)</td>\n",
       "      <td>37.484483</td>\n",
       "      <td>126.894496</td>\n",
       "    </tr>\n",
       "    <tr>\n",
       "      <th>4</th>\n",
       "      <td>구로하이엔드</td>\n",
       "      <td>서울특별시 구로구 디지털로26길 5, 에이스하이엔드타워1차 103호 (구로동)</td>\n",
       "      <td>37.481618</td>\n",
       "      <td>126.893136</td>\n",
       "    </tr>\n",
       "  </tbody>\n",
       "</table>\n",
       "</div>"
      ],
      "text/plain": [
       "       지점명                                           주소         위도          경도\n",
       "0     구로호텔          서울특별시 구로구 디지털로32길 72, 구로호텔 1층 (구로동)  37.483129  126.898859\n",
       "1  구로디지털타워                   서울특별시 구로구 디지털로32길 30 (구로동)  37.483432  126.896480\n",
       "2   구로디지털로      서울특별시 구로구 디지털로33길 11, 에이스테크노8차 1층 (구로동)  37.485911  126.895587\n",
       "3    구로에이스     서울특별시 구로구 디지털로 285, 에이스트윈타워1차 103호 (구로동)  37.484483  126.894496\n",
       "4   구로하이엔드  서울특별시 구로구 디지털로26길 5, 에이스하이엔드타워1차 103호 (구로동)  37.481618  126.893136"
      ]
     },
     "execution_count": 25,
     "metadata": {},
     "output_type": "execute_result"
    }
   ],
   "source": [
    "korea_st_buck_data = pd.read_csv(\n",
    "\tfile_path + '/starbucks.csv',\n",
    "\tencoding='EUC-KR'\n",
    ")\n",
    "\n",
    "korea_st_buck_data.head()"
   ]
  },
  {
   "cell_type": "markdown",
   "metadata": {},
   "source": [
    "### **3. 공간 데이터 핸들링**\n",
    "#### 3-1) 데이터 핸들링 <br>\n",
    "#### 3-2) csv 파일의 x,y 컬럼을 공간 데이터(GeoDataFrame)으로 변환 <br>\n",
    "#### 3-3) 좌표계 변환하기 <br>\n",
    "\n",
    "<br>\n"
   ]
  },
  {
   "cell_type": "markdown",
   "metadata": {},
   "source": [
    "#### 3-1) 데이터 핸들링 <br>\n"
   ]
  },
  {
   "cell_type": "markdown",
   "metadata": {},
   "source": [
    "* 컬럼명 소문자로 변경 "
   ]
  },
  {
   "cell_type": "code",
   "execution_count": 18,
   "metadata": {},
   "outputs": [
    {
     "data": {
      "text/html": [
       "<div>\n",
       "<style scoped>\n",
       "    .dataframe tbody tr th:only-of-type {\n",
       "        vertical-align: middle;\n",
       "    }\n",
       "\n",
       "    .dataframe tbody tr th {\n",
       "        vertical-align: top;\n",
       "    }\n",
       "\n",
       "    .dataframe thead th {\n",
       "        text-align: right;\n",
       "    }\n",
       "</style>\n",
       "<table border=\"1\" class=\"dataframe\">\n",
       "  <thead>\n",
       "    <tr style=\"text-align: right;\">\n",
       "      <th></th>\n",
       "      <th>ctprvn_cd</th>\n",
       "      <th>ctp_eng_nm</th>\n",
       "      <th>ctp_kor_nm</th>\n",
       "      <th>geometry</th>\n",
       "    </tr>\n",
       "  </thead>\n",
       "  <tbody>\n",
       "    <tr>\n",
       "      <th>0</th>\n",
       "      <td>11</td>\n",
       "      <td>Seoul</td>\n",
       "      <td>서울특별시</td>\n",
       "      <td>POLYGON ((966987.226 1941110.946, 966987.119 1...</td>\n",
       "    </tr>\n",
       "    <tr>\n",
       "      <th>1</th>\n",
       "      <td>26</td>\n",
       "      <td>Busan</td>\n",
       "      <td>부산광역시</td>\n",
       "      <td>MULTIPOLYGON (((1146778.390 1679623.999, 11469...</td>\n",
       "    </tr>\n",
       "    <tr>\n",
       "      <th>2</th>\n",
       "      <td>27</td>\n",
       "      <td>Daegu</td>\n",
       "      <td>대구광역시</td>\n",
       "      <td>POLYGON ((1087859.999 1760097.461, 1087859.951...</td>\n",
       "    </tr>\n",
       "    <tr>\n",
       "      <th>3</th>\n",
       "      <td>28</td>\n",
       "      <td>Incheon</td>\n",
       "      <td>인천광역시</td>\n",
       "      <td>MULTIPOLYGON (((897904.035 1961082.190, 897886...</td>\n",
       "    </tr>\n",
       "    <tr>\n",
       "      <th>4</th>\n",
       "      <td>29</td>\n",
       "      <td>Gwangju</td>\n",
       "      <td>광주광역시</td>\n",
       "      <td>POLYGON ((932712.687 1696168.692, 932781.680 1...</td>\n",
       "    </tr>\n",
       "  </tbody>\n",
       "</table>\n",
       "</div>"
      ],
      "text/plain": [
       "  ctprvn_cd ctp_eng_nm ctp_kor_nm  \\\n",
       "0        11      Seoul      서울특별시   \n",
       "1        26      Busan      부산광역시   \n",
       "2        27      Daegu      대구광역시   \n",
       "3        28    Incheon      인천광역시   \n",
       "4        29    Gwangju      광주광역시   \n",
       "\n",
       "                                            geometry  \n",
       "0  POLYGON ((966987.226 1941110.946, 966987.119 1...  \n",
       "1  MULTIPOLYGON (((1146778.390 1679623.999, 11469...  \n",
       "2  POLYGON ((1087859.999 1760097.461, 1087859.951...  \n",
       "3  MULTIPOLYGON (((897904.035 1961082.190, 897886...  \n",
       "4  POLYGON ((932712.687 1696168.692, 932781.680 1...  "
      ]
     },
     "execution_count": 18,
     "metadata": {},
     "output_type": "execute_result"
    }
   ],
   "source": [
    "# 컬럼명 소문자로 변경 \n",
    "\n",
    "korea_sido_shp.columns = map(str.lower, korea_sido_shp.columns)\n",
    "korea_sig_shp.columns = map(str.lower, korea_sig_shp.columns)\n",
    "korea_adm_shp.columns = map(str.lower, korea_adm_shp.columns)\n",
    "\n",
    "korea_sido_shp.head()"
   ]
  },
  {
   "cell_type": "markdown",
   "metadata": {},
   "source": [
    "* 한글 컬럼명 변겅 (개인 편의)"
   ]
  },
  {
   "cell_type": "code",
   "execution_count": 26,
   "metadata": {},
   "outputs": [],
   "source": [
    "\n",
    "# 시도 \n",
    "korea_sido_shp.rename(\n",
    "\tcolumns = {\n",
    "\t\t'ctprvn_cd': 'sido_cd',\n",
    "\t\t'ctp_eng_nm': 'sido_eng_nm',\n",
    "\t\t'ctp_kor_nm': 'sido_kor_nm'\n",
    "\t},\n",
    "\tinplace=True\n",
    ")\n",
    "\n",
    "\n",
    "#행정동 \n",
    "\n",
    "korea_adm_shp.rename(\n",
    "\tcolumns={\n",
    "\t\t'emd_cd': 'adm_cd',\n",
    "\t\t'emd_eng_nm': 'adm_eng_nm',\n",
    "\t\t'emd_kor_nm': 'adm_kor_nm'\n",
    "\t},\n",
    "\tinplace=True\n",
    ")\n",
    "\n",
    "\n",
    "#스타벅스 \n",
    "\n",
    "korea_st_buck_data.rename(\n",
    "\tcolumns = {\n",
    "\t\t'지점명': 'spot',\n",
    "\t\t'주소': 'address',\n",
    "\t\t'위도': 'lat',\n",
    "\t\t'경도': 'long'\n",
    "\t},\n",
    "\tinplace=True\n",
    ")\n"
   ]
  },
  {
   "cell_type": "markdown",
   "metadata": {},
   "source": [
    "---\n",
    "#### 3-2) csv 파일의 x,y 컬럼을 공간 데이터(GeoDataFrame)으로 변환 <br>\n",
    "\n",
    "* 위도(latitude), 경도(longitude) 각 컬럼을 아래와 같이 Point 형태의 데이터 타입으로 변경 (퍄트 5에서 추가 설명)"
   ]
  },
  {
   "cell_type": "code",
   "execution_count": 30,
   "metadata": {},
   "outputs": [
    {
     "name": "stderr",
     "output_type": "stream",
     "text": [
      "/Applications/anaconda3/envs/gis_env/lib/python3.10/site-packages/pandas/core/dtypes/cast.py:128: ShapelyDeprecationWarning: The array interface is deprecated and will no longer work in Shapely 2.0. Convert the '.coords' to a numpy array instead.\n",
      "  arr = construct_1d_object_array_from_listlike(values)\n"
     ]
    },
    {
     "data": {
      "text/html": [
       "<div>\n",
       "<style scoped>\n",
       "    .dataframe tbody tr th:only-of-type {\n",
       "        vertical-align: middle;\n",
       "    }\n",
       "\n",
       "    .dataframe tbody tr th {\n",
       "        vertical-align: top;\n",
       "    }\n",
       "\n",
       "    .dataframe thead th {\n",
       "        text-align: right;\n",
       "    }\n",
       "</style>\n",
       "<table border=\"1\" class=\"dataframe\">\n",
       "  <thead>\n",
       "    <tr style=\"text-align: right;\">\n",
       "      <th></th>\n",
       "      <th>spot</th>\n",
       "      <th>address</th>\n",
       "      <th>lat</th>\n",
       "      <th>long</th>\n",
       "      <th>geometry</th>\n",
       "    </tr>\n",
       "  </thead>\n",
       "  <tbody>\n",
       "    <tr>\n",
       "      <th>0</th>\n",
       "      <td>구로호텔</td>\n",
       "      <td>서울특별시 구로구 디지털로32길 72, 구로호텔 1층 (구로동)</td>\n",
       "      <td>37.483129</td>\n",
       "      <td>126.898859</td>\n",
       "      <td>POINT (126.89885909999998 37.4831293)</td>\n",
       "    </tr>\n",
       "    <tr>\n",
       "      <th>1</th>\n",
       "      <td>구로디지털타워</td>\n",
       "      <td>서울특별시 구로구 디지털로32길 30 (구로동)</td>\n",
       "      <td>37.483432</td>\n",
       "      <td>126.896480</td>\n",
       "      <td>POINT (126.89648 37.483432)</td>\n",
       "    </tr>\n",
       "    <tr>\n",
       "      <th>2</th>\n",
       "      <td>구로디지털로</td>\n",
       "      <td>서울특별시 구로구 디지털로33길 11, 에이스테크노8차 1층 (구로동)</td>\n",
       "      <td>37.485911</td>\n",
       "      <td>126.895587</td>\n",
       "      <td>POINT (126.895587 37.485911)</td>\n",
       "    </tr>\n",
       "    <tr>\n",
       "      <th>3</th>\n",
       "      <td>구로에이스</td>\n",
       "      <td>서울특별시 구로구 디지털로 285, 에이스트윈타워1차 103호 (구로동)</td>\n",
       "      <td>37.484483</td>\n",
       "      <td>126.894496</td>\n",
       "      <td>POINT (126.8944957 37.48448329)</td>\n",
       "    </tr>\n",
       "    <tr>\n",
       "      <th>4</th>\n",
       "      <td>구로하이엔드</td>\n",
       "      <td>서울특별시 구로구 디지털로26길 5, 에이스하이엔드타워1차 103호 (구로동)</td>\n",
       "      <td>37.481618</td>\n",
       "      <td>126.893136</td>\n",
       "      <td>POINT (126.893136 37.481618)</td>\n",
       "    </tr>\n",
       "  </tbody>\n",
       "</table>\n",
       "</div>"
      ],
      "text/plain": [
       "      spot                                      address        lat  \\\n",
       "0     구로호텔          서울특별시 구로구 디지털로32길 72, 구로호텔 1층 (구로동)  37.483129   \n",
       "1  구로디지털타워                   서울특별시 구로구 디지털로32길 30 (구로동)  37.483432   \n",
       "2   구로디지털로      서울특별시 구로구 디지털로33길 11, 에이스테크노8차 1층 (구로동)  37.485911   \n",
       "3    구로에이스     서울특별시 구로구 디지털로 285, 에이스트윈타워1차 103호 (구로동)  37.484483   \n",
       "4   구로하이엔드  서울특별시 구로구 디지털로26길 5, 에이스하이엔드타워1차 103호 (구로동)  37.481618   \n",
       "\n",
       "         long                               geometry  \n",
       "0  126.898859  POINT (126.89885909999998 37.4831293)  \n",
       "1  126.896480            POINT (126.89648 37.483432)  \n",
       "2  126.895587           POINT (126.895587 37.485911)  \n",
       "3  126.894496        POINT (126.8944957 37.48448329)  \n",
       "4  126.893136           POINT (126.893136 37.481618)  "
      ]
     },
     "execution_count": 30,
     "metadata": {},
     "output_type": "execute_result"
    }
   ],
   "source": [
    "korea_st_buck_data['geometry'] = korea_st_buck_data.apply(\n",
    "\tlambda dt: Point([dt['long'],dt['lat']]),\n",
    "\taxis=1\n",
    ")\n",
    "\n",
    "korea_st_buck_data.head()"
   ]
  },
  {
   "cell_type": "markdown",
   "metadata": {},
   "source": [
    "* GeoDataFrame 으로 변경시 'geometry' 파라미터에 공간 정보를 input 해줄 것 "
   ]
  },
  {
   "cell_type": "code",
   "execution_count": 41,
   "metadata": {},
   "outputs": [
    {
     "data": {
      "text/plain": [
       "geopandas.geodataframe.GeoDataFrame"
      ]
     },
     "execution_count": 41,
     "metadata": {},
     "output_type": "execute_result"
    }
   ],
   "source": [
    "korea_st_buck_gdf = gpd.GeoDataFrame(\n",
    "\tkorea_st_buck_data,\n",
    "\tgeometry = 'geometry'\n",
    ")\n",
    "\n",
    "korea_st_buck_gdf.drop(\n",
    "\tcolumns=['lat','long'],\n",
    "\tinplace=True\n",
    ")\n",
    "\n",
    "korea_st_buck_gdf.head()\n",
    "type(korea_st_buck_gdf)"
   ]
  },
  {
   "cell_type": "markdown",
   "metadata": {},
   "source": [
    "---\n",
    "#### 3-3) 좌표계 부여, 변환하기 <br>\n",
    "\n",
    "* 스타벅스 지점 데이터의 경우 초기 EPGS 값이 부여 되어 있지 않으므로 아래와 같이 EPGS 좌표계 부여"
   ]
  },
  {
   "cell_type": "code",
   "execution_count": 43,
   "metadata": {},
   "outputs": [
    {
     "name": "stderr",
     "output_type": "stream",
     "text": [
      "/Applications/anaconda3/envs/gis_env/lib/python3.10/site-packages/pyproj/crs/crs.py:141: FutureWarning: '+init=<authority>:<code>' syntax is deprecated. '<authority>:<code>' is the preferred initialization method. When making the change, be mindful of axis order changes: https://pyproj4.github.io/pyproj/stable/gotchas.html#axis-order-changes-in-proj-6\n",
      "  in_crs_string = _prepare_from_proj_string(in_crs_string)\n"
     ]
    },
    {
     "data": {
      "text/plain": [
       "<Geographic 2D CRS: +init=epsg:4326 +type=crs>\n",
       "Name: WGS 84\n",
       "Axis Info [ellipsoidal]:\n",
       "- lon[east]: Longitude (degree)\n",
       "- lat[north]: Latitude (degree)\n",
       "Area of Use:\n",
       "- name: World.\n",
       "- bounds: (-180.0, -90.0, 180.0, 90.0)\n",
       "Datum: World Geodetic System 1984 ensemble\n",
       "- Ellipsoid: WGS 84\n",
       "- Prime Meridian: Greenwich"
      ]
     },
     "execution_count": 43,
     "metadata": {},
     "output_type": "execute_result"
    }
   ],
   "source": [
    "# 좌표계 부여\n",
    "korea_st_buck_gdf.crs = {'init': 'epsg:4326'}\n",
    "\n",
    "# 좌표계 확인\n",
    "korea_st_buck_gdf.crs"
   ]
  },
  {
   "cell_type": "markdown",
   "metadata": {},
   "source": [
    "* 이제 스타벅스 지점 데이터와 shp 파일의 좌표계를 변경하여 같은 좌표계로 맞춰주자"
   ]
  },
  {
   "cell_type": "code",
   "execution_count": null,
   "metadata": {},
   "outputs": [],
   "source": [
    "korea_sido_shp = korea_sido_shp.to_crs({'init': 'epsg:5179'})\n",
    "korea_sig_shp = korea_sig_shp.to_crs({'init': 'epsg:5179'})\n",
    "korea_adm_shp = korea_adm_shp.to_crs({'init': 'epsg:5179'})\n",
    "korea_st_buck_gdf = korea_st_buck_gdf.to_crs({'init': 'epsg:5179'})"
   ]
  },
  {
   "cell_type": "code",
   "execution_count": 45,
   "metadata": {},
   "outputs": [
    {
     "data": {
      "text/html": [
       "<div>\n",
       "<style scoped>\n",
       "    .dataframe tbody tr th:only-of-type {\n",
       "        vertical-align: middle;\n",
       "    }\n",
       "\n",
       "    .dataframe tbody tr th {\n",
       "        vertical-align: top;\n",
       "    }\n",
       "\n",
       "    .dataframe thead th {\n",
       "        text-align: right;\n",
       "    }\n",
       "</style>\n",
       "<table border=\"1\" class=\"dataframe\">\n",
       "  <thead>\n",
       "    <tr style=\"text-align: right;\">\n",
       "      <th></th>\n",
       "      <th>sido_cd</th>\n",
       "      <th>sido_eng_nm</th>\n",
       "      <th>sido_kor_nm</th>\n",
       "      <th>geometry</th>\n",
       "    </tr>\n",
       "  </thead>\n",
       "  <tbody>\n",
       "    <tr>\n",
       "      <th>0</th>\n",
       "      <td>11</td>\n",
       "      <td>Seoul</td>\n",
       "      <td>서울특별시</td>\n",
       "      <td>POLYGON ((966987.226 1941110.946, 966987.119 1...</td>\n",
       "    </tr>\n",
       "    <tr>\n",
       "      <th>1</th>\n",
       "      <td>26</td>\n",
       "      <td>Busan</td>\n",
       "      <td>부산광역시</td>\n",
       "      <td>MULTIPOLYGON (((1146778.390 1679623.999, 11469...</td>\n",
       "    </tr>\n",
       "    <tr>\n",
       "      <th>2</th>\n",
       "      <td>27</td>\n",
       "      <td>Daegu</td>\n",
       "      <td>대구광역시</td>\n",
       "      <td>POLYGON ((1087859.999 1760097.461, 1087859.951...</td>\n",
       "    </tr>\n",
       "    <tr>\n",
       "      <th>3</th>\n",
       "      <td>28</td>\n",
       "      <td>Incheon</td>\n",
       "      <td>인천광역시</td>\n",
       "      <td>MULTIPOLYGON (((897904.035 1961082.190, 897886...</td>\n",
       "    </tr>\n",
       "    <tr>\n",
       "      <th>4</th>\n",
       "      <td>29</td>\n",
       "      <td>Gwangju</td>\n",
       "      <td>광주광역시</td>\n",
       "      <td>POLYGON ((932712.687 1696168.692, 932781.680 1...</td>\n",
       "    </tr>\n",
       "  </tbody>\n",
       "</table>\n",
       "</div>"
      ],
      "text/plain": [
       "  sido_cd sido_eng_nm sido_kor_nm  \\\n",
       "0      11       Seoul       서울특별시   \n",
       "1      26       Busan       부산광역시   \n",
       "2      27       Daegu       대구광역시   \n",
       "3      28     Incheon       인천광역시   \n",
       "4      29     Gwangju       광주광역시   \n",
       "\n",
       "                                            geometry  \n",
       "0  POLYGON ((966987.226 1941110.946, 966987.119 1...  \n",
       "1  MULTIPOLYGON (((1146778.390 1679623.999, 11469...  \n",
       "2  POLYGON ((1087859.999 1760097.461, 1087859.951...  \n",
       "3  MULTIPOLYGON (((897904.035 1961082.190, 897886...  \n",
       "4  POLYGON ((932712.687 1696168.692, 932781.680 1...  "
      ]
     },
     "execution_count": 45,
     "metadata": {},
     "output_type": "execute_result"
    }
   ],
   "source": [
    "korea_sido_shp.head()"
   ]
  },
  {
   "cell_type": "markdown",
   "metadata": {},
   "source": [
    "---\n",
    "### **4. Geopandas로 공간 속성 다루기**\n"
   ]
  },
  {
   "cell_type": "markdown",
   "metadata": {},
   "source": [
    "---\n",
    "#### 4-1) 면적 (area) <br>\n"
   ]
  },
  {
   "cell_type": "markdown",
   "metadata": {},
   "source": [
    "---\n",
    "#### 4-2) 길이 <br>\n"
   ]
  },
  {
   "cell_type": "markdown",
   "metadata": {},
   "source": [
    "---\n",
    "#### 4-3) 도형의 무게중심 <br>\n"
   ]
  },
  {
   "cell_type": "markdown",
   "metadata": {},
   "source": [
    "---\n",
    "#### 4-4) boundary 확인 <br>\n"
   ]
  },
  {
   "cell_type": "markdown",
   "metadata": {},
   "source": [
    "---\n",
    "#### 4-5) 공간의 유효성 확인 <br>\n"
   ]
  },
  {
   "cell_type": "markdown",
   "metadata": {},
   "source": [
    "---\n",
    "#### 4-6) 유효한 도형으로 만들기 <br>\n"
   ]
  },
  {
   "cell_type": "markdown",
   "metadata": {},
   "source": [
    "---\n",
    "### **5. shapely 패키지 사용하여 shape 만들기**"
   ]
  },
  {
   "cell_type": "markdown",
   "metadata": {},
   "source": [
    "---\n",
    "#### 5-1) 점(Point)\n"
   ]
  },
  {
   "cell_type": "markdown",
   "metadata": {},
   "source": [
    "---\n",
    "#### 5-2) 선(LineString) \n"
   ]
  },
  {
   "cell_type": "markdown",
   "metadata": {},
   "source": [
    "---\n",
    "#### 5-3) 도형(Polygon) \n"
   ]
  },
  {
   "cell_type": "markdown",
   "metadata": {},
   "source": [
    "---\n",
    "#### 5-4) 한번에 여러 도형 만들기 (점,선,면))"
   ]
  },
  {
   "cell_type": "markdown",
   "metadata": {},
   "source": [
    "---\n",
    "### **6. 공간데이터 활용하기**"
   ]
  },
  {
   "cell_type": "markdown",
   "metadata": {},
   "source": [
    "---\n",
    "#### 6-1) 버퍼 (buffer)"
   ]
  },
  {
   "cell_type": "markdown",
   "metadata": {},
   "source": [
    "---\n",
    "#### 6-2) 도형을 감싸는 사각형 그리기(envelope)\n"
   ]
  },
  {
   "cell_type": "markdown",
   "metadata": {},
   "source": [
    "---\n",
    "#### 6-3) 도형 융해(dissolve)\n"
   ]
  },
  {
   "cell_type": "markdown",
   "metadata": {},
   "source": [
    "---\n",
    "#### 6-4) 도형끼리 겹치는 부분 처리하기(overlay)\n"
   ]
  },
  {
   "cell_type": "markdown",
   "metadata": {},
   "source": []
  },
  {
   "cell_type": "markdown",
   "metadata": {},
   "source": [
    "---\n",
    "### **7. 공간 데이터 결합**\n",
    "\n"
   ]
  },
  {
   "cell_type": "markdown",
   "metadata": {},
   "source": [
    "#### 7-1) 여러 공간 결합 방법들\n",
    "* within \n"
   ]
  },
  {
   "cell_type": "markdown",
   "metadata": {},
   "source": [
    "* contain"
   ]
  },
  {
   "cell_type": "markdown",
   "metadata": {},
   "source": [
    "* intersects"
   ]
  },
  {
   "cell_type": "markdown",
   "metadata": {},
   "source": [
    "* crosses"
   ]
  },
  {
   "cell_type": "markdown",
   "metadata": {},
   "source": [
    "---\n",
    "#### 7-2) 실제 데이터 응용하기\n"
   ]
  },
  {
   "cell_type": "markdown",
   "metadata": {},
   "source": [
    "## **8. 저장하기**\n",
    "#### 8-1) shp파일로 저장하기 <br>\n",
    "\n",
    "<br>\n",
    "\n",
    "---"
   ]
  },
  {
   "cell_type": "markdown",
   "metadata": {},
   "source": [
    "## **9. Reference**\n",
    "#### 9-1) ref <br>\n",
    "\n",
    "\n",
    "[geopandas 사용법](https://yganalyst.github.io/spatial_analysis/spatial_analysis_2/)\n",
    "\n",
    "[Shapely 사용법](https://programmerpsy.tistory.com/104)\n",
    "\n",
    "[folinum 사용법](https://cow97.tistory.com/34)\n",
    "\n",
    "[shp 파일 다운로드](http://www.gisdeveloper.co.kr/?p=2332)        \n",
    "                                                                                                                                                                                                                                                                                       \n",
    "<br>\n",
    "\n",
    "---"
   ]
  },
  {
   "cell_type": "markdown",
   "metadata": {},
   "source": [
    "* 다음은 낙동강 데이터를 이용한 실제 Geo data analysis 를 다뤄보도록 하겠다"
   ]
  },
  {
   "cell_type": "markdown",
   "metadata": {},
   "source": []
  }
 ],
 "metadata": {
  "kernelspec": {
   "display_name": "Python 3.8.13 ('gis_env': conda)",
   "language": "python",
   "name": "python3"
  },
  "language_info": {
   "codemirror_mode": {
    "name": "ipython",
    "version": 3
   },
   "file_extension": ".py",
   "mimetype": "text/x-python",
   "name": "python",
   "nbconvert_exporter": "python",
   "pygments_lexer": "ipython3",
   "version": "3.10.6"
  },
  "orig_nbformat": 4,
  "vscode": {
   "interpreter": {
    "hash": "1b9e7c2ea28868547de4e8fa83b847dd5adaa7ee059c2730ea8783ea0843a309"
   }
  }
 },
 "nbformat": 4,
 "nbformat_minor": 2
}
