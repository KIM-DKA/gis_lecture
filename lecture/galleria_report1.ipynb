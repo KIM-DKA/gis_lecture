{
 "cells": [
  {
   "cell_type": "markdown",
   "metadata": {},
   "source": [
    "## **갤러리아 보고 (2022.10.06)**\n",
    "\n",
    "---\n",
    "\n",
    "### **분석 목적** \n",
    "* 타겟 고객군의 등급 상향 이동 여부 분류 데이터 분석 \n",
    "* 신규 고객 온보딩 분석 \n",
    "* 향후 우수고객 전환 관련 데이터 분석 (1번과 중복되는 것 같음)\n",
    "* 고객 이탈분석 및 이탈관련 index 화 (고객 프로파일링)\n",
    "* look-alike 타겟팅 (갤러리아 외 고객의 데이터 받을 수 있는가?)\n",
    "\n",
    "\n",
    "### **1. 갤러리아 데이터 불러오기**\n",
    "* 1-1) data read 하기\n",
    "* 1-2) 데이터 결합 및 안쓰는 컬럼 drop 하기\n",
    "\n",
    "### **2. EDA**\n",
    "\n",
    "* 2-1) feature engineering  \n",
    "* 2-2) Hypothesis and test\n",
    "\n",
    "### **3. 데이터 핸들링**\n",
    "\n",
    "* 3-1) Missing Imputation \n",
    "* 3-2) Feature selection \n",
    "\n",
    "### **4. 모형 해석**\n",
    "* 3-1) Paramteric model\n",
    "* 3-2) Assumption check  \n",
    "\n",
    "### **5. Machine Laerning**\n",
    "* 4-1) Ensemble \n",
    "* 4-2) Neural Net \n",
    "* 4-3) Prediction Performance Result\n",
    "\n",
    "\n",
    "### **6. Reference** \n",
    "* ref \n",
    "\n",
    "\n",
    "----\n"
   ]
  },
  {
   "cell_type": "code",
   "execution_count": 2,
   "metadata": {},
   "outputs": [],
   "source": [
    "import os \n",
    "import sys \n",
    "import pandas as pd \n",
    "import numpy as np\n",
    "import matplotlib.pyplot as plt \n",
    "import re \n",
    "from pandas_profiling import ProfileReport\n",
    "import openpyxl\n",
    "import plotly.offline as plyo\n",
    "import plotly.graph_objects as go\n",
    "import cufflinks\n",
    "import warnings\n"
   ]
  },
  {
   "cell_type": "markdown",
   "metadata": {},
   "source": [
    "---\n",
    "* 분석 환경설정 \n"
   ]
  },
  {
   "cell_type": "code",
   "execution_count": 5,
   "metadata": {},
   "outputs": [],
   "source": [
    "# Jupyter 환경 설정 \n",
    "\n",
    "warnings.filterwarnings(action='ignore') \n",
    "plt.rcParams['font.family'] = 'AppleGothic'\n",
    "file_path = '/Users/dk/Downloads/scheme'\n",
    "os.chdir(file_path)\n"
   ]
  },
  {
   "cell_type": "markdown",
   "metadata": {},
   "source": [
    "---\n",
    "\n",
    "### **1. 갤러리아 데이터 불러오기**\n",
    "* 1-1) data read 하기 \n"
   ]
  },
  {
   "cell_type": "code",
   "execution_count": 6,
   "metadata": {},
   "outputs": [
    {
     "data": {
      "text/plain": [
       "['04. GM_IND_MEM_개인회원정보_20220922.xlsx',\n",
       " '12. PS_CUST_DAILY_MEMO_PSR 일지(일별 메모)_20220922.xlsx',\n",
       " '16. PS_SALE_PSR매출_20220922.xlsx',\n",
       " '97.CULT_TR부분접수결제환불.xlsx',\n",
       " '03. GM_GRADE_TARGET_회원 등급 최종 대상자_20220921 (PJ추출).xlsx',\n",
       " '13. PS_CUST_RESRV_PSR고객예약접수_20220922.xlsx',\n",
       " '96.CULT_CUST_MAST문화회원마스터.xlsx',\n",
       " '98.CULT_BABY유모차대여.xlsx',\n",
       " '99.VIP_WINE상반기 와인 구독 신청 회원번호.xlsx',\n",
       " '05. GM_REPRE_MEM_INFO_대표회원정보_20220922.xlsx',\n",
       " '15. PS_INVITE_REG_PSR 출입등록 관리_20220922.xlsx',\n",
       " '14. PS_FANCY_PSR고객취향_20220922.xlsx',\n",
       " '95.PSR 메모 텍스트마이닝 DATA.xlsx',\n",
       " 'table_schema_info_20221005.xlsx']"
      ]
     },
     "execution_count": 6,
     "metadata": {},
     "output_type": "execute_result"
    }
   ],
   "source": [
    "file_nm = [x for x in os.listdir() if 'xlsx' in x]\n",
    "file_nm "
   ]
  },
  {
   "cell_type": "markdown",
   "metadata": {},
   "source": [
    "* file name 정규화"
   ]
  },
  {
   "cell_type": "code",
   "execution_count": 7,
   "metadata": {},
   "outputs": [],
   "source": [
    "def reg_file_nm(file_nm):\n",
    "    \n",
    "    return re.sub(\n",
    "        '[_]+$',\n",
    "        '',\n",
    "        re.sub(\n",
    "            '[ㄱ-ㅎ가-힣0-9\\.\\(\\) ]',\n",
    "            '',\n",
    "            re.sub(\n",
    "                '.xlsx',\n",
    "                '',\n",
    "                file_nm\n",
    "            )   \n",
    "        )\n",
    "    ) "
   ]
  },
  {
   "cell_type": "markdown",
   "metadata": {},
   "source": [
    "* 파일 이름 핸들링 결과"
   ]
  },
  {
   "cell_type": "code",
   "execution_count": 8,
   "metadata": {},
   "outputs": [
    {
     "name": "stdout",
     "output_type": "stream",
     "text": [
      "GM_IND_MEM_개인회원정보\n",
      "----------------------------------------------------------------------------------------------------\n",
      "PS_CUST_DAILY_MEMO_PSR일지일별메모\n",
      "----------------------------------------------------------------------------------------------------\n",
      "PS_SALE_PSR매출\n",
      "----------------------------------------------------------------------------------------------------\n",
      "CULT_TR부분접수결제환불\n",
      "----------------------------------------------------------------------------------------------------\n",
      "GM_GRADE_TARGET_회원등급최종대상자_PJ추출\n",
      "----------------------------------------------------------------------------------------------------\n",
      "PS_CUST_RESRV_PSR고객예약접수\n",
      "----------------------------------------------------------------------------------------------------\n",
      "CULT_CUST_MAST문화회원마스터\n",
      "----------------------------------------------------------------------------------------------------\n",
      "CULT_BABY유모차대여\n",
      "----------------------------------------------------------------------------------------------------\n",
      "VIP_WINE상반기와인구독신청회원번호\n",
      "----------------------------------------------------------------------------------------------------\n",
      "GM_REPRE_MEM_INFO_대표회원정보\n",
      "----------------------------------------------------------------------------------------------------\n",
      "PS_INVITE_REG_PSR출입등록관리\n",
      "----------------------------------------------------------------------------------------------------\n",
      "PS_FANCY_PSR고객취향\n",
      "----------------------------------------------------------------------------------------------------\n",
      "PSR메모텍스트마이닝DATA\n",
      "----------------------------------------------------------------------------------------------------\n",
      "table_schema_info\n",
      "----------------------------------------------------------------------------------------------------\n"
     ]
    }
   ],
   "source": [
    "for nm in file_nm: \n",
    "\tprint(reg_file_nm(nm))\n",
    "\tprint('-'*100)"
   ]
  },
  {
   "cell_type": "markdown",
   "metadata": {},
   "source": [
    "* 데이터 불러오기"
   ]
  },
  {
   "cell_type": "code",
   "execution_count": 9,
   "metadata": {},
   "outputs": [
    {
     "name": "stdout",
     "output_type": "stream",
     "text": [
      "04. GM_IND_MEM_개인회원정보_20220922.xlsx\n",
      "----------------------------------------------------------------------------------------------------\n",
      "12. PS_CUST_DAILY_MEMO_PSR 일지(일별 메모)_20220922.xlsx\n",
      "----------------------------------------------------------------------------------------------------\n",
      "16. PS_SALE_PSR매출_20220922.xlsx\n",
      "----------------------------------------------------------------------------------------------------\n",
      "97.CULT_TR부분접수결제환불.xlsx\n",
      "----------------------------------------------------------------------------------------------------\n",
      "03. GM_GRADE_TARGET_회원 등급 최종 대상자_20220921 (PJ추출).xlsx\n",
      "----------------------------------------------------------------------------------------------------\n",
      "13. PS_CUST_RESRV_PSR고객예약접수_20220922.xlsx\n",
      "----------------------------------------------------------------------------------------------------\n",
      "96.CULT_CUST_MAST문화회원마스터.xlsx\n",
      "----------------------------------------------------------------------------------------------------\n",
      "98.CULT_BABY유모차대여.xlsx\n",
      "----------------------------------------------------------------------------------------------------\n",
      "99.VIP_WINE상반기 와인 구독 신청 회원번호.xlsx\n",
      "----------------------------------------------------------------------------------------------------\n",
      "05. GM_REPRE_MEM_INFO_대표회원정보_20220922.xlsx\n",
      "----------------------------------------------------------------------------------------------------\n",
      "15. PS_INVITE_REG_PSR 출입등록 관리_20220922.xlsx\n",
      "----------------------------------------------------------------------------------------------------\n",
      "14. PS_FANCY_PSR고객취향_20220922.xlsx\n",
      "----------------------------------------------------------------------------------------------------\n",
      "95.PSR 메모 텍스트마이닝 DATA.xlsx\n",
      "----------------------------------------------------------------------------------------------------\n",
      "table_schema_info_20221005.xlsx\n",
      "----------------------------------------------------------------------------------------------------\n"
     ]
    }
   ],
   "source": [
    "galleria_db = {}\n",
    "\n",
    "for nm in file_nm:\n",
    "    xlsx_dt = pd.read_excel(\n",
    "        nm,\n",
    "        None\n",
    "    )\n",
    "    sheet_nm = list(xlsx_dt.keys())[0]\n",
    "\n",
    "    xlsx_df = pd.DataFrame(\n",
    "        xlsx_dt[sheet_nm]\n",
    "    )\n",
    "\n",
    "    galleria_db[reg_file_nm(nm)] = xlsx_df\n",
    "    \n",
    "    print(nm)\n",
    "    print('-'*100)\n",
    "    \n",
    "tbl_list = list(galleria_db.keys())"
   ]
  },
  {
   "cell_type": "markdown",
   "metadata": {},
   "source": [
    "* 컬럼명 소문자로 바꾸기 "
   ]
  },
  {
   "cell_type": "code",
   "execution_count": 10,
   "metadata": {},
   "outputs": [],
   "source": [
    "for tbl_nm in tbl_list:\n",
    "\tgalleria_db[tbl_nm].columns = map(str.lower, galleria_db[tbl_nm].columns)"
   ]
  },
  {
   "cell_type": "markdown",
   "metadata": {},
   "source": [
    "---\n",
    "* 컬럼에 한글명 붙이기"
   ]
  },
  {
   "cell_type": "markdown",
   "metadata": {},
   "source": [
    "#### 개인회원 정보 테이블 (GM_IND_MEM) [**base table**]"
   ]
  },
  {
   "cell_type": "code",
   "execution_count": 11,
   "metadata": {},
   "outputs": [
    {
     "data": {
      "text/html": [
       "<div>\n",
       "<style scoped>\n",
       "    .dataframe tbody tr th:only-of-type {\n",
       "        vertical-align: middle;\n",
       "    }\n",
       "\n",
       "    .dataframe tbody tr th {\n",
       "        vertical-align: top;\n",
       "    }\n",
       "\n",
       "    .dataframe thead th {\n",
       "        text-align: right;\n",
       "    }\n",
       "</style>\n",
       "<table border=\"1\" class=\"dataframe\">\n",
       "  <thead>\n",
       "    <tr style=\"text-align: right;\">\n",
       "      <th></th>\n",
       "      <th>mem_no</th>\n",
       "      <th>credit_card_first_join_ymd</th>\n",
       "      <th>memship_join_ymd</th>\n",
       "      <th>foreiner_flag_cd</th>\n",
       "      <th>foreiner_flag_nm</th>\n",
       "      <th>email_recv_agree_yn</th>\n",
       "      <th>sms_agree_yn</th>\n",
       "      <th>parkjade_choice_rsn_cd</th>\n",
       "      <th>parkjade_choice_rsn_nm</th>\n",
       "      <th>dm_recv_agree_yn</th>\n",
       "      <th>tm_agree_yn</th>\n",
       "      <th>dm_addr</th>\n",
       "      <th>dm_office_nm</th>\n",
       "      <th>dm_dept_nm</th>\n",
       "      <th>inet_email_recv_agree_yn</th>\n",
       "      <th>inet_sms_recv_agree_yn</th>\n",
       "    </tr>\n",
       "  </thead>\n",
       "  <tbody>\n",
       "    <tr>\n",
       "      <th>0</th>\n",
       "      <td>12367029</td>\n",
       "      <td>2017-12-02</td>\n",
       "      <td>NaN</td>\n",
       "      <td>1.0</td>\n",
       "      <td>내국인</td>\n",
       "      <td>N</td>\n",
       "      <td>Y</td>\n",
       "      <td>NaN</td>\n",
       "      <td>NaN</td>\n",
       "      <td>Y</td>\n",
       "      <td>N</td>\n",
       "      <td>NaN</td>\n",
       "      <td>NaN</td>\n",
       "      <td>NaN</td>\n",
       "      <td>N</td>\n",
       "      <td>Y</td>\n",
       "    </tr>\n",
       "    <tr>\n",
       "      <th>1</th>\n",
       "      <td>12376469</td>\n",
       "      <td>NaN</td>\n",
       "      <td>2017-12-31</td>\n",
       "      <td>4.0</td>\n",
       "      <td>외국인등록증</td>\n",
       "      <td>N</td>\n",
       "      <td>N</td>\n",
       "      <td>NaN</td>\n",
       "      <td>NaN</td>\n",
       "      <td>N</td>\n",
       "      <td>N</td>\n",
       "      <td>NaN</td>\n",
       "      <td>NaN</td>\n",
       "      <td>NaN</td>\n",
       "      <td>N</td>\n",
       "      <td>N</td>\n",
       "    </tr>\n",
       "    <tr>\n",
       "      <th>2</th>\n",
       "      <td>12377168</td>\n",
       "      <td>2019-11-09</td>\n",
       "      <td>2018-01-04</td>\n",
       "      <td>1.0</td>\n",
       "      <td>내국인</td>\n",
       "      <td>Y</td>\n",
       "      <td>Y</td>\n",
       "      <td>NaN</td>\n",
       "      <td>NaN</td>\n",
       "      <td>N</td>\n",
       "      <td>N</td>\n",
       "      <td>NaN</td>\n",
       "      <td>NaN</td>\n",
       "      <td>NaN</td>\n",
       "      <td>Y</td>\n",
       "      <td>Y</td>\n",
       "    </tr>\n",
       "    <tr>\n",
       "      <th>3</th>\n",
       "      <td>12378037</td>\n",
       "      <td>2018-01-07</td>\n",
       "      <td>NaN</td>\n",
       "      <td>1.0</td>\n",
       "      <td>내국인</td>\n",
       "      <td>Y</td>\n",
       "      <td>Y</td>\n",
       "      <td>NaN</td>\n",
       "      <td>NaN</td>\n",
       "      <td>Y</td>\n",
       "      <td>Y</td>\n",
       "      <td>NaN</td>\n",
       "      <td>NaN</td>\n",
       "      <td>NaN</td>\n",
       "      <td>Y</td>\n",
       "      <td>Y</td>\n",
       "    </tr>\n",
       "    <tr>\n",
       "      <th>4</th>\n",
       "      <td>12684462</td>\n",
       "      <td>2022-07-15</td>\n",
       "      <td>2020-01-16</td>\n",
       "      <td>1.0</td>\n",
       "      <td>내국인</td>\n",
       "      <td>N</td>\n",
       "      <td>N</td>\n",
       "      <td>NaN</td>\n",
       "      <td>NaN</td>\n",
       "      <td>N</td>\n",
       "      <td>N</td>\n",
       "      <td>NaN</td>\n",
       "      <td>NaN</td>\n",
       "      <td>NaN</td>\n",
       "      <td>N</td>\n",
       "      <td>N</td>\n",
       "    </tr>\n",
       "  </tbody>\n",
       "</table>\n",
       "</div>"
      ],
      "text/plain": [
       "     mem_no credit_card_first_join_ymd memship_join_ymd  foreiner_flag_cd  \\\n",
       "0  12367029                 2017-12-02              NaN               1.0   \n",
       "1  12376469                        NaN       2017-12-31               4.0   \n",
       "2  12377168                 2019-11-09       2018-01-04               1.0   \n",
       "3  12378037                 2018-01-07              NaN               1.0   \n",
       "4  12684462                 2022-07-15       2020-01-16               1.0   \n",
       "\n",
       "  foreiner_flag_nm email_recv_agree_yn sms_agree_yn  parkjade_choice_rsn_cd  \\\n",
       "0              내국인                   N            Y                     NaN   \n",
       "1           외국인등록증                   N            N                     NaN   \n",
       "2              내국인                   Y            Y                     NaN   \n",
       "3              내국인                   Y            Y                     NaN   \n",
       "4              내국인                   N            N                     NaN   \n",
       "\n",
       "  parkjade_choice_rsn_nm dm_recv_agree_yn tm_agree_yn dm_addr dm_office_nm  \\\n",
       "0                    NaN                Y           N     NaN          NaN   \n",
       "1                    NaN                N           N     NaN          NaN   \n",
       "2                    NaN                N           N     NaN          NaN   \n",
       "3                    NaN                Y           Y     NaN          NaN   \n",
       "4                    NaN                N           N     NaN          NaN   \n",
       "\n",
       "   dm_dept_nm inet_email_recv_agree_yn inet_sms_recv_agree_yn  \n",
       "0         NaN                        N                      Y  \n",
       "1         NaN                        N                      N  \n",
       "2         NaN                        Y                      Y  \n",
       "3         NaN                        Y                      Y  \n",
       "4         NaN                        N                      N  "
      ]
     },
     "execution_count": 11,
     "metadata": {},
     "output_type": "execute_result"
    }
   ],
   "source": [
    "galleria_db['GM_IND_MEM_개인회원정보'].head()"
   ]
  },
  {
   "cell_type": "markdown",
   "metadata": {},
   "source": [
    "* Missing 이 80프로 이상이거나, 카테고리가 1가지인 컬럼 Drop 하기"
   ]
  },
  {
   "cell_type": "code",
   "execution_count": 12,
   "metadata": {},
   "outputs": [
    {
     "name": "stdout",
     "output_type": "stream",
     "text": [
      "<class 'pandas.core.frame.DataFrame'>\n",
      "RangeIndex: 168328 entries, 0 to 168327\n",
      "Data columns (total 16 columns):\n",
      " #   Column                      Non-Null Count   Dtype  \n",
      "---  ------                      --------------   -----  \n",
      " 0   mem_no                      168328 non-null  int64  \n",
      " 1   credit_card_first_join_ymd  124889 non-null  object \n",
      " 2   memship_join_ymd            108218 non-null  object \n",
      " 3   foreiner_flag_cd            159048 non-null  float64\n",
      " 4   foreiner_flag_nm            159048 non-null  object \n",
      " 5   email_recv_agree_yn         168326 non-null  object \n",
      " 6   sms_agree_yn                168326 non-null  object \n",
      " 7   parkjade_choice_rsn_cd      1186 non-null    float64\n",
      " 8   parkjade_choice_rsn_nm      1186 non-null    object \n",
      " 9   dm_recv_agree_yn            168295 non-null  object \n",
      " 10  tm_agree_yn                 168295 non-null  object \n",
      " 11  dm_addr                     5449 non-null    object \n",
      " 12  dm_office_nm                4 non-null       object \n",
      " 13  dm_dept_nm                  0 non-null       float64\n",
      " 14  inet_email_recv_agree_yn    168328 non-null  object \n",
      " 15  inet_sms_recv_agree_yn      168328 non-null  object \n",
      "dtypes: float64(3), int64(1), object(12)\n",
      "memory usage: 20.5+ MB\n"
     ]
    }
   ],
   "source": [
    "galleria_db['GM_IND_MEM_개인회원정보'].info()\n"
   ]
  },
  {
   "cell_type": "code",
   "execution_count": 13,
   "metadata": {},
   "outputs": [
    {
     "data": {
      "text/html": [
       "<div>\n",
       "<style scoped>\n",
       "    .dataframe tbody tr th:only-of-type {\n",
       "        vertical-align: middle;\n",
       "    }\n",
       "\n",
       "    .dataframe tbody tr th {\n",
       "        vertical-align: top;\n",
       "    }\n",
       "\n",
       "    .dataframe thead th {\n",
       "        text-align: right;\n",
       "    }\n",
       "</style>\n",
       "<table border=\"1\" class=\"dataframe\">\n",
       "  <thead>\n",
       "    <tr style=\"text-align: right;\">\n",
       "      <th></th>\n",
       "      <th>mem_no</th>\n",
       "      <th>credit_card_first_join_ymd</th>\n",
       "      <th>memship_join_ymd</th>\n",
       "      <th>foreiner_flag_cd</th>\n",
       "      <th>foreiner_flag_nm</th>\n",
       "      <th>email_recv_agree_yn</th>\n",
       "      <th>sms_agree_yn</th>\n",
       "      <th>dm_recv_agree_yn</th>\n",
       "      <th>tm_agree_yn</th>\n",
       "      <th>inet_email_recv_agree_yn</th>\n",
       "      <th>inet_sms_recv_agree_yn</th>\n",
       "    </tr>\n",
       "  </thead>\n",
       "  <tbody>\n",
       "    <tr>\n",
       "      <th>0</th>\n",
       "      <td>12367029</td>\n",
       "      <td>2017-12-02</td>\n",
       "      <td>NaN</td>\n",
       "      <td>1.0</td>\n",
       "      <td>내국인</td>\n",
       "      <td>N</td>\n",
       "      <td>Y</td>\n",
       "      <td>Y</td>\n",
       "      <td>N</td>\n",
       "      <td>N</td>\n",
       "      <td>Y</td>\n",
       "    </tr>\n",
       "    <tr>\n",
       "      <th>1</th>\n",
       "      <td>12376469</td>\n",
       "      <td>NaN</td>\n",
       "      <td>2017-12-31</td>\n",
       "      <td>4.0</td>\n",
       "      <td>외국인등록증</td>\n",
       "      <td>N</td>\n",
       "      <td>N</td>\n",
       "      <td>N</td>\n",
       "      <td>N</td>\n",
       "      <td>N</td>\n",
       "      <td>N</td>\n",
       "    </tr>\n",
       "    <tr>\n",
       "      <th>2</th>\n",
       "      <td>12377168</td>\n",
       "      <td>2019-11-09</td>\n",
       "      <td>2018-01-04</td>\n",
       "      <td>1.0</td>\n",
       "      <td>내국인</td>\n",
       "      <td>Y</td>\n",
       "      <td>Y</td>\n",
       "      <td>N</td>\n",
       "      <td>N</td>\n",
       "      <td>Y</td>\n",
       "      <td>Y</td>\n",
       "    </tr>\n",
       "    <tr>\n",
       "      <th>3</th>\n",
       "      <td>12378037</td>\n",
       "      <td>2018-01-07</td>\n",
       "      <td>NaN</td>\n",
       "      <td>1.0</td>\n",
       "      <td>내국인</td>\n",
       "      <td>Y</td>\n",
       "      <td>Y</td>\n",
       "      <td>Y</td>\n",
       "      <td>Y</td>\n",
       "      <td>Y</td>\n",
       "      <td>Y</td>\n",
       "    </tr>\n",
       "    <tr>\n",
       "      <th>4</th>\n",
       "      <td>12684462</td>\n",
       "      <td>2022-07-15</td>\n",
       "      <td>2020-01-16</td>\n",
       "      <td>1.0</td>\n",
       "      <td>내국인</td>\n",
       "      <td>N</td>\n",
       "      <td>N</td>\n",
       "      <td>N</td>\n",
       "      <td>N</td>\n",
       "      <td>N</td>\n",
       "      <td>N</td>\n",
       "    </tr>\n",
       "  </tbody>\n",
       "</table>\n",
       "</div>"
      ],
      "text/plain": [
       "     mem_no credit_card_first_join_ymd memship_join_ymd  foreiner_flag_cd  \\\n",
       "0  12367029                 2017-12-02              NaN               1.0   \n",
       "1  12376469                        NaN       2017-12-31               4.0   \n",
       "2  12377168                 2019-11-09       2018-01-04               1.0   \n",
       "3  12378037                 2018-01-07              NaN               1.0   \n",
       "4  12684462                 2022-07-15       2020-01-16               1.0   \n",
       "\n",
       "  foreiner_flag_nm email_recv_agree_yn sms_agree_yn dm_recv_agree_yn  \\\n",
       "0              내국인                   N            Y                Y   \n",
       "1           외국인등록증                   N            N                N   \n",
       "2              내국인                   Y            Y                N   \n",
       "3              내국인                   Y            Y                Y   \n",
       "4              내국인                   N            N                N   \n",
       "\n",
       "  tm_agree_yn inet_email_recv_agree_yn inet_sms_recv_agree_yn  \n",
       "0           N                        N                      Y  \n",
       "1           N                        N                      N  \n",
       "2           N                        Y                      Y  \n",
       "3           Y                        Y                      Y  \n",
       "4           N                        N                      N  "
      ]
     },
     "execution_count": 13,
     "metadata": {},
     "output_type": "execute_result"
    }
   ],
   "source": [
    "# Drop col 선택 \n",
    "\n",
    "galleria_db['GM_IND_MEM_개인회원정보'].drop(\n",
    "\tcolumns = [\n",
    "\t\t'parkjade_choice_rsn_cd', \n",
    "\t\t'parkjade_choice_rsn_nm',\n",
    "\t\t'dm_addr',\n",
    "\t\t'dm_office_nm',\n",
    "\t\t'dm_dept_nm'\n",
    "\t],\n",
    "\tinplace = True\t\n",
    ")\n",
    "\n",
    "# 데이터 확인 \n",
    "galleria_db['GM_IND_MEM_개인회원정보'].head()"
   ]
  },
  {
   "cell_type": "markdown",
   "metadata": {},
   "source": [
    "#### 년도별 회원등급 최종 대상자 PJ 추출 (GM_GRADE_TARGET)"
   ]
  },
  {
   "cell_type": "code",
   "execution_count": 14,
   "metadata": {},
   "outputs": [
    {
     "data": {
      "text/html": [
       "<div>\n",
       "<style scoped>\n",
       "    .dataframe tbody tr th:only-of-type {\n",
       "        vertical-align: middle;\n",
       "    }\n",
       "\n",
       "    .dataframe tbody tr th {\n",
       "        vertical-align: top;\n",
       "    }\n",
       "\n",
       "    .dataframe thead th {\n",
       "        text-align: right;\n",
       "    }\n",
       "</style>\n",
       "<table border=\"1\" class=\"dataframe\">\n",
       "  <thead>\n",
       "    <tr style=\"text-align: right;\">\n",
       "      <th></th>\n",
       "      <th>repre_mem_no</th>\n",
       "      <th>sale_yy</th>\n",
       "      <th>choice_rsn_cd</th>\n",
       "      <th>choice_rsn_nm</th>\n",
       "      <th>tot_net_sale_amt</th>\n",
       "      <th>grade_lar_cd</th>\n",
       "      <th>grade_lar_nm</th>\n",
       "      <th>grade_small_cd</th>\n",
       "      <th>grade_small_nm</th>\n",
       "      <th>mgm_store_cd</th>\n",
       "      <th>mgm_store_nm</th>\n",
       "      <th>concige_voch_use_cnt</th>\n",
       "      <th>pj_apply_yn</th>\n",
       "    </tr>\n",
       "  </thead>\n",
       "  <tbody>\n",
       "    <tr>\n",
       "      <th>0</th>\n",
       "      <td>10138617</td>\n",
       "      <td>2017</td>\n",
       "      <td>1.0</td>\n",
       "      <td>매출기준</td>\n",
       "      <td>24976322.0</td>\n",
       "      <td>2</td>\n",
       "      <td>ParkJade</td>\n",
       "      <td>3</td>\n",
       "      <td>BLUE</td>\n",
       "      <td>1500.0</td>\n",
       "      <td>수원점</td>\n",
       "      <td>0</td>\n",
       "      <td>Y</td>\n",
       "    </tr>\n",
       "    <tr>\n",
       "      <th>1</th>\n",
       "      <td>10138629</td>\n",
       "      <td>2017</td>\n",
       "      <td>1.0</td>\n",
       "      <td>매출기준</td>\n",
       "      <td>43348725.0</td>\n",
       "      <td>2</td>\n",
       "      <td>ParkJade</td>\n",
       "      <td>2</td>\n",
       "      <td>WHITE</td>\n",
       "      <td>9100.0</td>\n",
       "      <td>명품관</td>\n",
       "      <td>0</td>\n",
       "      <td>Y</td>\n",
       "    </tr>\n",
       "    <tr>\n",
       "      <th>2</th>\n",
       "      <td>10138933</td>\n",
       "      <td>2017</td>\n",
       "      <td>1.0</td>\n",
       "      <td>매출기준</td>\n",
       "      <td>22522817.0</td>\n",
       "      <td>2</td>\n",
       "      <td>ParkJade</td>\n",
       "      <td>3</td>\n",
       "      <td>BLUE</td>\n",
       "      <td>2900.0</td>\n",
       "      <td>센터시티_BLUE</td>\n",
       "      <td>0</td>\n",
       "      <td>Y</td>\n",
       "    </tr>\n",
       "    <tr>\n",
       "      <th>3</th>\n",
       "      <td>10139084</td>\n",
       "      <td>2017</td>\n",
       "      <td>1.0</td>\n",
       "      <td>매출기준</td>\n",
       "      <td>31392979.0</td>\n",
       "      <td>2</td>\n",
       "      <td>ParkJade</td>\n",
       "      <td>3</td>\n",
       "      <td>BLUE</td>\n",
       "      <td>9100.0</td>\n",
       "      <td>명품관</td>\n",
       "      <td>0</td>\n",
       "      <td>Y</td>\n",
       "    </tr>\n",
       "    <tr>\n",
       "      <th>4</th>\n",
       "      <td>10139248</td>\n",
       "      <td>2017</td>\n",
       "      <td>1.0</td>\n",
       "      <td>매출기준</td>\n",
       "      <td>23455226.0</td>\n",
       "      <td>2</td>\n",
       "      <td>ParkJade</td>\n",
       "      <td>3</td>\n",
       "      <td>BLUE</td>\n",
       "      <td>5410.0</td>\n",
       "      <td>타임월드_BLUE</td>\n",
       "      <td>0</td>\n",
       "      <td>Y</td>\n",
       "    </tr>\n",
       "  </tbody>\n",
       "</table>\n",
       "</div>"
      ],
      "text/plain": [
       "   repre_mem_no  sale_yy  choice_rsn_cd choice_rsn_nm  tot_net_sale_amt  \\\n",
       "0      10138617     2017            1.0          매출기준        24976322.0   \n",
       "1      10138629     2017            1.0          매출기준        43348725.0   \n",
       "2      10138933     2017            1.0          매출기준        22522817.0   \n",
       "3      10139084     2017            1.0          매출기준        31392979.0   \n",
       "4      10139248     2017            1.0          매출기준        23455226.0   \n",
       "\n",
       "   grade_lar_cd grade_lar_nm  grade_small_cd grade_small_nm  mgm_store_cd  \\\n",
       "0             2     ParkJade               3           BLUE        1500.0   \n",
       "1             2     ParkJade               2          WHITE        9100.0   \n",
       "2             2     ParkJade               3           BLUE        2900.0   \n",
       "3             2     ParkJade               3           BLUE        9100.0   \n",
       "4             2     ParkJade               3           BLUE        5410.0   \n",
       "\n",
       "  mgm_store_nm  concige_voch_use_cnt pj_apply_yn  \n",
       "0          수원점                     0           Y  \n",
       "1          명품관                     0           Y  \n",
       "2    센터시티_BLUE                     0           Y  \n",
       "3          명품관                     0           Y  \n",
       "4    타임월드_BLUE                     0           Y  "
      ]
     },
     "execution_count": 14,
     "metadata": {},
     "output_type": "execute_result"
    }
   ],
   "source": [
    "galleria_db['GM_GRADE_TARGET_회원등급최종대상자_PJ추출'].head()"
   ]
  },
  {
   "cell_type": "markdown",
   "metadata": {},
   "source": []
  },
  {
   "cell_type": "code",
   "execution_count": 15,
   "metadata": {},
   "outputs": [
    {
     "name": "stdout",
     "output_type": "stream",
     "text": [
      "개인회원 정보와 회원등급대상자 ID (FKey) 교집합 개수 : 28516 명\n"
     ]
    }
   ],
   "source": [
    "s1 = set(galleria_db['GM_IND_MEM_개인회원정보'].mem_no) \n",
    "s2 = set(galleria_db['GM_GRADE_TARGET_회원등급최종대상자_PJ추출'].repre_mem_no)\n",
    "\n",
    "print('개인회원 정보와 회원등급대상자 ID (FKey) 교집합 개수 :' ,len(s1 & s2),'명')\n",
    "\n"
   ]
  },
  {
   "cell_type": "markdown",
   "metadata": {},
   "source": [
    "* 데이터 Join ['GM_IND_MEM_개인회원정보'], ['GM_GRADE_TARGET_회원등급최종대상자_PJ추출']"
   ]
  },
  {
   "cell_type": "code",
   "execution_count": 16,
   "metadata": {},
   "outputs": [],
   "source": [
    "galleria_df = pd.merge(\n",
    "\tgalleria_db['GM_IND_MEM_개인회원정보'],\n",
    "\tgalleria_db['GM_GRADE_TARGET_회원등급최종대상자_PJ추출'],\n",
    "\thow = 'left',\n",
    "\tleft_on = 'mem_no',\n",
    "\tright_on = 'repre_mem_no'\n",
    ")"
   ]
  },
  {
   "cell_type": "code",
   "execution_count": 17,
   "metadata": {},
   "outputs": [
    {
     "name": "stdout",
     "output_type": "stream",
     "text": [
      "<class 'pandas.core.frame.DataFrame'>\n",
      "Int64Index: 208354 entries, 0 to 208353\n",
      "Data columns (total 24 columns):\n",
      " #   Column                      Non-Null Count   Dtype  \n",
      "---  ------                      --------------   -----  \n",
      " 0   mem_no                      208354 non-null  int64  \n",
      " 1   credit_card_first_join_ymd  164769 non-null  object \n",
      " 2   memship_join_ymd            131836 non-null  object \n",
      " 3   foreiner_flag_cd            199068 non-null  float64\n",
      " 4   foreiner_flag_nm            199068 non-null  object \n",
      " 5   email_recv_agree_yn         208352 non-null  object \n",
      " 6   sms_agree_yn                208352 non-null  object \n",
      " 7   dm_recv_agree_yn            208321 non-null  object \n",
      " 8   tm_agree_yn                 208321 non-null  object \n",
      " 9   inet_email_recv_agree_yn    208354 non-null  object \n",
      " 10  inet_sms_recv_agree_yn      208354 non-null  object \n",
      " 11  repre_mem_no                68542 non-null   float64\n",
      " 12  sale_yy                     68542 non-null   float64\n",
      " 13  choice_rsn_cd               68534 non-null   float64\n",
      " 14  choice_rsn_nm               68534 non-null   object \n",
      " 15  tot_net_sale_amt            68541 non-null   float64\n",
      " 16  grade_lar_cd                68542 non-null   float64\n",
      " 17  grade_lar_nm                68542 non-null   object \n",
      " 18  grade_small_cd              68542 non-null   float64\n",
      " 19  grade_small_nm              68542 non-null   object \n",
      " 20  mgm_store_cd                68540 non-null   float64\n",
      " 21  mgm_store_nm                68540 non-null   object \n",
      " 22  concige_voch_use_cnt        68542 non-null   float64\n",
      " 23  pj_apply_yn                 68531 non-null   object \n",
      "dtypes: float64(9), int64(1), object(14)\n",
      "memory usage: 39.7+ MB\n"
     ]
    }
   ],
   "source": [
    "galleria_df.info()"
   ]
  },
  {
   "cell_type": "markdown",
   "metadata": {},
   "source": [
    "---\n",
    "#### PS 등급 매출 테이블 (PS_SALE_PSR)"
   ]
  },
  {
   "cell_type": "code",
   "execution_count": 18,
   "metadata": {},
   "outputs": [
    {
     "data": {
      "text/html": [
       "<div>\n",
       "<style scoped>\n",
       "    .dataframe tbody tr th:only-of-type {\n",
       "        vertical-align: middle;\n",
       "    }\n",
       "\n",
       "    .dataframe tbody tr th {\n",
       "        vertical-align: top;\n",
       "    }\n",
       "\n",
       "    .dataframe thead th {\n",
       "        text-align: right;\n",
       "    }\n",
       "</style>\n",
       "<table border=\"1\" class=\"dataframe\">\n",
       "  <thead>\n",
       "    <tr style=\"text-align: right;\">\n",
       "      <th></th>\n",
       "      <th>mem_no</th>\n",
       "      <th>saldate</th>\n",
       "      <th>store</th>\n",
       "      <th>store_nm</th>\n",
       "      <th>posno</th>\n",
       "      <th>trxnno</th>\n",
       "      <th>seqno</th>\n",
       "      <th>cancflg</th>\n",
       "      <th>cancflg_nm</th>\n",
       "      <th>gretype</th>\n",
       "      <th>...</th>\n",
       "      <th>salrat</th>\n",
       "      <th>itwondate</th>\n",
       "      <th>psr_cust_id</th>\n",
       "      <th>psr_sale_gb</th>\n",
       "      <th>psr_size_grp</th>\n",
       "      <th>psr_size_cd</th>\n",
       "      <th>psr_color_cd</th>\n",
       "      <th>bigo</th>\n",
       "      <th>cdate</th>\n",
       "      <th>udate</th>\n",
       "    </tr>\n",
       "  </thead>\n",
       "  <tbody>\n",
       "    <tr>\n",
       "      <th>0</th>\n",
       "      <td>10614746.0</td>\n",
       "      <td>2017-02-19</td>\n",
       "      <td>9100</td>\n",
       "      <td>명품관</td>\n",
       "      <td>4</td>\n",
       "      <td>380</td>\n",
       "      <td>25</td>\n",
       "      <td>0</td>\n",
       "      <td>정상</td>\n",
       "      <td>0</td>\n",
       "      <td>...</td>\n",
       "      <td>0</td>\n",
       "      <td>2017-02-19</td>\n",
       "      <td>1000015031</td>\n",
       "      <td>NaN</td>\n",
       "      <td>NaN</td>\n",
       "      <td>NaN</td>\n",
       "      <td>NaN</td>\n",
       "      <td>NaN</td>\n",
       "      <td>2017/02/19 20:31:13</td>\n",
       "      <td>NaN</td>\n",
       "    </tr>\n",
       "    <tr>\n",
       "      <th>1</th>\n",
       "      <td>10810805.0</td>\n",
       "      <td>2017-07-28</td>\n",
       "      <td>9100</td>\n",
       "      <td>명품관</td>\n",
       "      <td>2603</td>\n",
       "      <td>7</td>\n",
       "      <td>1</td>\n",
       "      <td>0</td>\n",
       "      <td>정상</td>\n",
       "      <td>0</td>\n",
       "      <td>...</td>\n",
       "      <td>0</td>\n",
       "      <td>2017-07-28</td>\n",
       "      <td>20176417</td>\n",
       "      <td>NaN</td>\n",
       "      <td>NaN</td>\n",
       "      <td>NaN</td>\n",
       "      <td>NaN</td>\n",
       "      <td>NaN</td>\n",
       "      <td>2017/07/28 18:48:32</td>\n",
       "      <td>NaN</td>\n",
       "    </tr>\n",
       "    <tr>\n",
       "      <th>2</th>\n",
       "      <td>10810805.0</td>\n",
       "      <td>2017-07-28</td>\n",
       "      <td>9100</td>\n",
       "      <td>명품관</td>\n",
       "      <td>2603</td>\n",
       "      <td>7</td>\n",
       "      <td>2</td>\n",
       "      <td>0</td>\n",
       "      <td>정상</td>\n",
       "      <td>0</td>\n",
       "      <td>...</td>\n",
       "      <td>0</td>\n",
       "      <td>2017-07-28</td>\n",
       "      <td>20176417</td>\n",
       "      <td>NaN</td>\n",
       "      <td>NaN</td>\n",
       "      <td>NaN</td>\n",
       "      <td>NaN</td>\n",
       "      <td>NaN</td>\n",
       "      <td>2017/07/28 18:48:32</td>\n",
       "      <td>NaN</td>\n",
       "    </tr>\n",
       "    <tr>\n",
       "      <th>3</th>\n",
       "      <td>10343701.0</td>\n",
       "      <td>2017-07-28</td>\n",
       "      <td>9100</td>\n",
       "      <td>명품관</td>\n",
       "      <td>2603</td>\n",
       "      <td>8</td>\n",
       "      <td>1</td>\n",
       "      <td>0</td>\n",
       "      <td>정상</td>\n",
       "      <td>0</td>\n",
       "      <td>...</td>\n",
       "      <td>0</td>\n",
       "      <td>2017-07-28</td>\n",
       "      <td>20143905</td>\n",
       "      <td>NaN</td>\n",
       "      <td>NaN</td>\n",
       "      <td>NaN</td>\n",
       "      <td>NaN</td>\n",
       "      <td>NaN</td>\n",
       "      <td>2017/07/28 18:48:32</td>\n",
       "      <td>NaN</td>\n",
       "    </tr>\n",
       "    <tr>\n",
       "      <th>4</th>\n",
       "      <td>10395545.0</td>\n",
       "      <td>2017-07-28</td>\n",
       "      <td>9100</td>\n",
       "      <td>명품관</td>\n",
       "      <td>2603</td>\n",
       "      <td>9</td>\n",
       "      <td>1</td>\n",
       "      <td>0</td>\n",
       "      <td>정상</td>\n",
       "      <td>0</td>\n",
       "      <td>...</td>\n",
       "      <td>0</td>\n",
       "      <td>2017-07-28</td>\n",
       "      <td>1000010913</td>\n",
       "      <td>NaN</td>\n",
       "      <td>NaN</td>\n",
       "      <td>NaN</td>\n",
       "      <td>NaN</td>\n",
       "      <td>NaN</td>\n",
       "      <td>2017/07/28 18:48:32</td>\n",
       "      <td>NaN</td>\n",
       "    </tr>\n",
       "  </tbody>\n",
       "</table>\n",
       "<p>5 rows × 57 columns</p>\n",
       "</div>"
      ],
      "text/plain": [
       "       mem_no     saldate  store store_nm  posno  trxnno  seqno  cancflg  \\\n",
       "0  10614746.0  2017-02-19   9100      명품관      4     380     25        0   \n",
       "1  10810805.0  2017-07-28   9100      명품관   2603       7      1        0   \n",
       "2  10810805.0  2017-07-28   9100      명품관   2603       7      2        0   \n",
       "3  10343701.0  2017-07-28   9100      명품관   2603       8      1        0   \n",
       "4  10395545.0  2017-07-28   9100      명품관   2603       9      1        0   \n",
       "\n",
       "  cancflg_nm  gretype  ... salrat   itwondate psr_cust_id psr_sale_gb  \\\n",
       "0         정상        0  ...      0  2017-02-19  1000015031         NaN   \n",
       "1         정상        0  ...      0  2017-07-28    20176417         NaN   \n",
       "2         정상        0  ...      0  2017-07-28    20176417         NaN   \n",
       "3         정상        0  ...      0  2017-07-28    20143905         NaN   \n",
       "4         정상        0  ...      0  2017-07-28  1000010913         NaN   \n",
       "\n",
       "   psr_size_grp psr_size_cd  psr_color_cd bigo                cdate udate  \n",
       "0           NaN         NaN           NaN  NaN  2017/02/19 20:31:13   NaN  \n",
       "1           NaN         NaN           NaN  NaN  2017/07/28 18:48:32   NaN  \n",
       "2           NaN         NaN           NaN  NaN  2017/07/28 18:48:32   NaN  \n",
       "3           NaN         NaN           NaN  NaN  2017/07/28 18:48:32   NaN  \n",
       "4           NaN         NaN           NaN  NaN  2017/07/28 18:48:32   NaN  \n",
       "\n",
       "[5 rows x 57 columns]"
      ]
     },
     "execution_count": 18,
     "metadata": {},
     "output_type": "execute_result"
    }
   ],
   "source": [
    "galleria_db['PS_SALE_PSR매출'].head()"
   ]
  },
  {
   "cell_type": "code",
   "execution_count": 19,
   "metadata": {},
   "outputs": [
    {
     "name": "stdout",
     "output_type": "stream",
     "text": [
      "<class 'pandas.core.frame.DataFrame'>\n",
      "RangeIndex: 22598 entries, 0 to 22597\n",
      "Data columns (total 57 columns):\n",
      " #   Column        Non-Null Count  Dtype  \n",
      "---  ------        --------------  -----  \n",
      " 0   mem_no        21975 non-null  float64\n",
      " 1   saldate       22598 non-null  object \n",
      " 2   store         22598 non-null  int64  \n",
      " 3   store_nm      22598 non-null  object \n",
      " 4   posno         22598 non-null  int64  \n",
      " 5   trxnno        22598 non-null  int64  \n",
      " 6   seqno         22598 non-null  int64  \n",
      " 7   cancflg       22598 non-null  int64  \n",
      " 8   cancflg_nm    22598 non-null  object \n",
      " 9   gretype       22598 non-null  int64  \n",
      " 10  gretype_nm    22598 non-null  object \n",
      " 11  plcode        22598 non-null  object \n",
      " 12  goodcd        22598 non-null  object \n",
      " 13  goodcd_nm     4080 non-null   object \n",
      " 14  pumbun        22598 non-null  int64  \n",
      " 15  pumbun_nm     22598 non-null  object \n",
      " 16  pumflg        22598 non-null  int64  \n",
      " 17  pumflg_nm     22598 non-null  object \n",
      " 18  pummok_cd     22598 non-null  object \n",
      " 19  pummok_cd_nm  17255 non-null  object \n",
      " 20  smallmd       22598 non-null  object \n",
      " 21  salqty        22598 non-null  int64  \n",
      " 22  unit          22598 non-null  int64  \n",
      " 23  amt           22598 non-null  int64  \n",
      " 24  itdisc        22598 non-null  int64  \n",
      " 25  itdisc_nm     22598 non-null  object \n",
      " 26  itdiscrate    22598 non-null  int64  \n",
      " 27  itdiscamt     22598 non-null  int64  \n",
      " 28  postime       22598 non-null  int64  \n",
      " 29  netqty        22598 non-null  int64  \n",
      " 30  etcdiscamt    22598 non-null  int64  \n",
      " 31  mobdisc       22598 non-null  int64  \n",
      " 32  cnpcnt        22598 non-null  int64  \n",
      " 33  cnpcd         22598 non-null  int64  \n",
      " 34  plcode18      22598 non-null  object \n",
      " 35  out_flag      22598 non-null  object \n",
      " 36  out_flag_nm   22598 non-null  object \n",
      " 37  mcddisc       22598 non-null  int64  \n",
      " 38  etcdiscrate   22598 non-null  int64  \n",
      " 39  pumbunnm      22526 non-null  object \n",
      " 40  pric          22598 non-null  int64  \n",
      " 41  itdisccnpno   22598 non-null  int64  \n",
      " 42  vatamt        22598 non-null  int64  \n",
      " 43  goodinputflg  22598 non-null  int64  \n",
      " 44  campamt       22598 non-null  int64  \n",
      " 45  chgflg        22598 non-null  int64  \n",
      " 46  chgflg_nm     22598 non-null  object \n",
      " 47  salrat        22598 non-null  int64  \n",
      " 48  itwondate     22598 non-null  object \n",
      " 49  psr_cust_id   22598 non-null  int64  \n",
      " 50  psr_sale_gb   0 non-null      float64\n",
      " 51  psr_size_grp  0 non-null      float64\n",
      " 52  psr_size_cd   0 non-null      float64\n",
      " 53  psr_color_cd  0 non-null      float64\n",
      " 54  bigo          0 non-null      float64\n",
      " 55  cdate         22598 non-null  object \n",
      " 56  udate         16317 non-null  object \n",
      "dtypes: float64(6), int64(30), object(21)\n",
      "memory usage: 9.8+ MB\n"
     ]
    }
   ],
   "source": [
    "galleria_db['PS_SALE_PSR매출'].info()"
   ]
  },
  {
   "cell_type": "code",
   "execution_count": 20,
   "metadata": {},
   "outputs": [
    {
     "name": "stdout",
     "output_type": "stream",
     "text": [
      "갤러리아 psr 등급 회원수: 414\n"
     ]
    }
   ],
   "source": [
    "print('갤러리아 psr 등급 회원수:' ,len(galleria_db['PS_SALE_PSR매출'].mem_no.unique()))"
   ]
  },
  {
   "cell_type": "markdown",
   "metadata": {},
   "source": [
    "* PSR 등급 회원수가 적어 전체 고객에 대한 corr 을 보는 것은 우선 차후에 처리"
   ]
  },
  {
   "cell_type": "code",
   "execution_count": 21,
   "metadata": {},
   "outputs": [],
   "source": [
    "# 결합 키 데이터 타입 맞추기 (float to int64)\n",
    "\n",
    "galleria_db['PS_SALE_PSR매출'].mem_no =galleria_db['PS_SALE_PSR매출'].mem_no.astype('Int64')"
   ]
  },
  {
   "cell_type": "markdown",
   "metadata": {},
   "source": [
    "* Numetric type 컬럼만 추출 "
   ]
  },
  {
   "cell_type": "code",
   "execution_count": 22,
   "metadata": {},
   "outputs": [
    {
     "data": {
      "text/html": [
       "<div>\n",
       "<style scoped>\n",
       "    .dataframe tbody tr th:only-of-type {\n",
       "        vertical-align: middle;\n",
       "    }\n",
       "\n",
       "    .dataframe tbody tr th {\n",
       "        vertical-align: top;\n",
       "    }\n",
       "\n",
       "    .dataframe thead th {\n",
       "        text-align: right;\n",
       "    }\n",
       "</style>\n",
       "<table border=\"1\" class=\"dataframe\">\n",
       "  <thead>\n",
       "    <tr style=\"text-align: right;\">\n",
       "      <th></th>\n",
       "      <th>mem_no</th>\n",
       "      <th>saldate</th>\n",
       "      <th>salqty</th>\n",
       "      <th>unit</th>\n",
       "      <th>itdiscrate</th>\n",
       "      <th>netqty</th>\n",
       "      <th>etcdiscamt</th>\n",
       "      <th>mobdisc</th>\n",
       "      <th>cnpcnt</th>\n",
       "      <th>pric</th>\n",
       "      <th>vatamt</th>\n",
       "      <th>salrat</th>\n",
       "    </tr>\n",
       "  </thead>\n",
       "  <tbody>\n",
       "    <tr>\n",
       "      <th>0</th>\n",
       "      <td>10614746</td>\n",
       "      <td>2017-02-19</td>\n",
       "      <td>120</td>\n",
       "      <td>1900</td>\n",
       "      <td>5</td>\n",
       "      <td>0</td>\n",
       "      <td>0</td>\n",
       "      <td>0</td>\n",
       "      <td>0</td>\n",
       "      <td>1900</td>\n",
       "      <td>19691</td>\n",
       "      <td>0</td>\n",
       "    </tr>\n",
       "    <tr>\n",
       "      <th>1</th>\n",
       "      <td>10810805</td>\n",
       "      <td>2017-07-28</td>\n",
       "      <td>0</td>\n",
       "      <td>0</td>\n",
       "      <td>0</td>\n",
       "      <td>0</td>\n",
       "      <td>0</td>\n",
       "      <td>0</td>\n",
       "      <td>0</td>\n",
       "      <td>0</td>\n",
       "      <td>0</td>\n",
       "      <td>0</td>\n",
       "    </tr>\n",
       "    <tr>\n",
       "      <th>2</th>\n",
       "      <td>10810805</td>\n",
       "      <td>2017-07-28</td>\n",
       "      <td>1</td>\n",
       "      <td>540000</td>\n",
       "      <td>0</td>\n",
       "      <td>0</td>\n",
       "      <td>0</td>\n",
       "      <td>0</td>\n",
       "      <td>0</td>\n",
       "      <td>0</td>\n",
       "      <td>49091</td>\n",
       "      <td>0</td>\n",
       "    </tr>\n",
       "    <tr>\n",
       "      <th>3</th>\n",
       "      <td>10343701</td>\n",
       "      <td>2017-07-28</td>\n",
       "      <td>1</td>\n",
       "      <td>668000</td>\n",
       "      <td>5</td>\n",
       "      <td>0</td>\n",
       "      <td>0</td>\n",
       "      <td>0</td>\n",
       "      <td>0</td>\n",
       "      <td>0</td>\n",
       "      <td>57691</td>\n",
       "      <td>0</td>\n",
       "    </tr>\n",
       "    <tr>\n",
       "      <th>4</th>\n",
       "      <td>10395545</td>\n",
       "      <td>2017-07-28</td>\n",
       "      <td>1</td>\n",
       "      <td>1370000</td>\n",
       "      <td>0</td>\n",
       "      <td>0</td>\n",
       "      <td>0</td>\n",
       "      <td>0</td>\n",
       "      <td>0</td>\n",
       "      <td>0</td>\n",
       "      <td>124545</td>\n",
       "      <td>0</td>\n",
       "    </tr>\n",
       "  </tbody>\n",
       "</table>\n",
       "</div>"
      ],
      "text/plain": [
       "     mem_no     saldate  salqty     unit  itdiscrate  netqty  etcdiscamt  \\\n",
       "0  10614746  2017-02-19     120     1900           5       0           0   \n",
       "1  10810805  2017-07-28       0        0           0       0           0   \n",
       "2  10810805  2017-07-28       1   540000           0       0           0   \n",
       "3  10343701  2017-07-28       1   668000           5       0           0   \n",
       "4  10395545  2017-07-28       1  1370000           0       0           0   \n",
       "\n",
       "   mobdisc  cnpcnt  pric  vatamt  salrat  \n",
       "0        0       0  1900   19691       0  \n",
       "1        0       0     0       0       0  \n",
       "2        0       0     0   49091       0  \n",
       "3        0       0     0   57691       0  \n",
       "4        0       0     0  124545       0  "
      ]
     },
     "execution_count": 22,
     "metadata": {},
     "output_type": "execute_result"
    }
   ],
   "source": [
    "\n",
    "use_col = [ \n",
    "\t'mem_no',\n",
    "\t'saldate',  \n",
    "    'salqty',\n",
    "    'unit', \n",
    "    'itdiscrate', \n",
    "    'netqty',\n",
    "    'etcdiscamt', \n",
    "    'mobdisc', \n",
    "    'cnpcnt',\n",
    "    'pric',\n",
    "    'vatamt',\n",
    "    'salrat'\n",
    "]\n",
    "\n",
    "galleria_db['PS_SALE_PSR매출'][use_col].head()\n"
   ]
  },
  {
   "cell_type": "markdown",
   "metadata": {},
   "source": [
    "* saledate 를 연도별로 split "
   ]
  },
  {
   "cell_type": "code",
   "execution_count": 23,
   "metadata": {},
   "outputs": [],
   "source": [
    "galleria_db['PS_SALE_PSR매출'].saldate = galleria_db['PS_SALE_PSR매출'].saldate.str[0:4]\n"
   ]
  },
  {
   "cell_type": "code",
   "execution_count": 24,
   "metadata": {},
   "outputs": [
    {
     "data": {
      "text/html": [
       "<div>\n",
       "<style scoped>\n",
       "    .dataframe tbody tr th:only-of-type {\n",
       "        vertical-align: middle;\n",
       "    }\n",
       "\n",
       "    .dataframe tbody tr th {\n",
       "        vertical-align: top;\n",
       "    }\n",
       "\n",
       "    .dataframe thead th {\n",
       "        text-align: right;\n",
       "    }\n",
       "</style>\n",
       "<table border=\"1\" class=\"dataframe\">\n",
       "  <thead>\n",
       "    <tr style=\"text-align: right;\">\n",
       "      <th></th>\n",
       "      <th></th>\n",
       "      <th>salqty</th>\n",
       "      <th>unit</th>\n",
       "      <th>itdiscrate</th>\n",
       "      <th>netqty</th>\n",
       "      <th>etcdiscamt</th>\n",
       "      <th>mobdisc</th>\n",
       "      <th>cnpcnt</th>\n",
       "      <th>pric</th>\n",
       "      <th>vatamt</th>\n",
       "      <th>salrat</th>\n",
       "    </tr>\n",
       "    <tr>\n",
       "      <th>mem_no</th>\n",
       "      <th>saldate</th>\n",
       "      <th></th>\n",
       "      <th></th>\n",
       "      <th></th>\n",
       "      <th></th>\n",
       "      <th></th>\n",
       "      <th></th>\n",
       "      <th></th>\n",
       "      <th></th>\n",
       "      <th></th>\n",
       "      <th></th>\n",
       "    </tr>\n",
       "  </thead>\n",
       "  <tbody>\n",
       "    <tr>\n",
       "      <th>10023384</th>\n",
       "      <th>2018</th>\n",
       "      <td>1.000000</td>\n",
       "      <td>7.965225e+07</td>\n",
       "      <td>0.000000</td>\n",
       "      <td>0.000000</td>\n",
       "      <td>0.000000</td>\n",
       "      <td>0.0</td>\n",
       "      <td>0.0</td>\n",
       "      <td>0.000000</td>\n",
       "      <td>7.241114e+06</td>\n",
       "      <td>0.000000</td>\n",
       "    </tr>\n",
       "    <tr>\n",
       "      <th>10039810</th>\n",
       "      <th>2021</th>\n",
       "      <td>1.000000</td>\n",
       "      <td>1.785000e+06</td>\n",
       "      <td>0.000000</td>\n",
       "      <td>0.000000</td>\n",
       "      <td>0.000000</td>\n",
       "      <td>0.0</td>\n",
       "      <td>0.0</td>\n",
       "      <td>0.000000</td>\n",
       "      <td>1.622730e+05</td>\n",
       "      <td>0.000000</td>\n",
       "    </tr>\n",
       "    <tr>\n",
       "      <th>10045825</th>\n",
       "      <th>2022</th>\n",
       "      <td>1.000000</td>\n",
       "      <td>5.644875e+06</td>\n",
       "      <td>0.000000</td>\n",
       "      <td>0.000000</td>\n",
       "      <td>0.000000</td>\n",
       "      <td>0.0</td>\n",
       "      <td>0.0</td>\n",
       "      <td>0.000000</td>\n",
       "      <td>5.131704e+05</td>\n",
       "      <td>0.000000</td>\n",
       "    </tr>\n",
       "    <tr>\n",
       "      <th rowspan=\"2\" valign=\"top\">10046831</th>\n",
       "      <th>2018</th>\n",
       "      <td>1.093458</td>\n",
       "      <td>2.404854e+06</td>\n",
       "      <td>5.355140</td>\n",
       "      <td>0.037383</td>\n",
       "      <td>10274.766355</td>\n",
       "      <td>0.0</td>\n",
       "      <td>0.0</td>\n",
       "      <td>42037.383178</td>\n",
       "      <td>2.218875e+05</td>\n",
       "      <td>4.392523</td>\n",
       "    </tr>\n",
       "    <tr>\n",
       "      <th>2019</th>\n",
       "      <td>0.884868</td>\n",
       "      <td>3.448581e+06</td>\n",
       "      <td>3.289474</td>\n",
       "      <td>1.394737</td>\n",
       "      <td>2184.868421</td>\n",
       "      <td>0.0</td>\n",
       "      <td>0.0</td>\n",
       "      <td>9481.907895</td>\n",
       "      <td>2.676670e+05</td>\n",
       "      <td>3.717105</td>\n",
       "    </tr>\n",
       "    <tr>\n",
       "      <th>...</th>\n",
       "      <th>...</th>\n",
       "      <td>...</td>\n",
       "      <td>...</td>\n",
       "      <td>...</td>\n",
       "      <td>...</td>\n",
       "      <td>...</td>\n",
       "      <td>...</td>\n",
       "      <td>...</td>\n",
       "      <td>...</td>\n",
       "      <td>...</td>\n",
       "      <td>...</td>\n",
       "    </tr>\n",
       "    <tr>\n",
       "      <th>13020179</th>\n",
       "      <th>2022</th>\n",
       "      <td>1.000000</td>\n",
       "      <td>2.322857e+06</td>\n",
       "      <td>0.000000</td>\n",
       "      <td>0.000000</td>\n",
       "      <td>0.000000</td>\n",
       "      <td>0.0</td>\n",
       "      <td>0.0</td>\n",
       "      <td>0.000000</td>\n",
       "      <td>2.111687e+05</td>\n",
       "      <td>0.000000</td>\n",
       "    </tr>\n",
       "    <tr>\n",
       "      <th>13229033</th>\n",
       "      <th>2022</th>\n",
       "      <td>1.000000</td>\n",
       "      <td>1.298710e+08</td>\n",
       "      <td>0.000000</td>\n",
       "      <td>0.000000</td>\n",
       "      <td>0.000000</td>\n",
       "      <td>0.0</td>\n",
       "      <td>0.0</td>\n",
       "      <td>0.000000</td>\n",
       "      <td>1.180646e+07</td>\n",
       "      <td>0.000000</td>\n",
       "    </tr>\n",
       "    <tr>\n",
       "      <th>13270288</th>\n",
       "      <th>2022</th>\n",
       "      <td>2.035714</td>\n",
       "      <td>1.692929e+06</td>\n",
       "      <td>5.714286</td>\n",
       "      <td>0.000000</td>\n",
       "      <td>139285.714286</td>\n",
       "      <td>0.0</td>\n",
       "      <td>0.0</td>\n",
       "      <td>465821.428571</td>\n",
       "      <td>1.467652e+05</td>\n",
       "      <td>0.000000</td>\n",
       "    </tr>\n",
       "    <tr>\n",
       "      <th>13294125</th>\n",
       "      <th>2022</th>\n",
       "      <td>1.000000</td>\n",
       "      <td>2.004517e+07</td>\n",
       "      <td>1.666667</td>\n",
       "      <td>0.000000</td>\n",
       "      <td>0.000000</td>\n",
       "      <td>0.0</td>\n",
       "      <td>0.0</td>\n",
       "      <td>0.000000</td>\n",
       "      <td>1.735668e+06</td>\n",
       "      <td>0.000000</td>\n",
       "    </tr>\n",
       "    <tr>\n",
       "      <th>13339170</th>\n",
       "      <th>2022</th>\n",
       "      <td>0.833333</td>\n",
       "      <td>1.781667e+06</td>\n",
       "      <td>0.000000</td>\n",
       "      <td>0.000000</td>\n",
       "      <td>0.000000</td>\n",
       "      <td>0.0</td>\n",
       "      <td>0.0</td>\n",
       "      <td>0.000000</td>\n",
       "      <td>1.445458e+05</td>\n",
       "      <td>0.000000</td>\n",
       "    </tr>\n",
       "  </tbody>\n",
       "</table>\n",
       "<p>724 rows × 10 columns</p>\n",
       "</div>"
      ],
      "text/plain": [
       "                    salqty          unit  itdiscrate    netqty     etcdiscamt  \\\n",
       "mem_no   saldate                                                                \n",
       "10023384 2018     1.000000  7.965225e+07    0.000000  0.000000       0.000000   \n",
       "10039810 2021     1.000000  1.785000e+06    0.000000  0.000000       0.000000   \n",
       "10045825 2022     1.000000  5.644875e+06    0.000000  0.000000       0.000000   \n",
       "10046831 2018     1.093458  2.404854e+06    5.355140  0.037383   10274.766355   \n",
       "         2019     0.884868  3.448581e+06    3.289474  1.394737    2184.868421   \n",
       "...                    ...           ...         ...       ...            ...   \n",
       "13020179 2022     1.000000  2.322857e+06    0.000000  0.000000       0.000000   \n",
       "13229033 2022     1.000000  1.298710e+08    0.000000  0.000000       0.000000   \n",
       "13270288 2022     2.035714  1.692929e+06    5.714286  0.000000  139285.714286   \n",
       "13294125 2022     1.000000  2.004517e+07    1.666667  0.000000       0.000000   \n",
       "13339170 2022     0.833333  1.781667e+06    0.000000  0.000000       0.000000   \n",
       "\n",
       "                  mobdisc  cnpcnt           pric        vatamt    salrat  \n",
       "mem_no   saldate                                                          \n",
       "10023384 2018         0.0     0.0       0.000000  7.241114e+06  0.000000  \n",
       "10039810 2021         0.0     0.0       0.000000  1.622730e+05  0.000000  \n",
       "10045825 2022         0.0     0.0       0.000000  5.131704e+05  0.000000  \n",
       "10046831 2018         0.0     0.0   42037.383178  2.218875e+05  4.392523  \n",
       "         2019         0.0     0.0    9481.907895  2.676670e+05  3.717105  \n",
       "...                   ...     ...            ...           ...       ...  \n",
       "13020179 2022         0.0     0.0       0.000000  2.111687e+05  0.000000  \n",
       "13229033 2022         0.0     0.0       0.000000  1.180646e+07  0.000000  \n",
       "13270288 2022         0.0     0.0  465821.428571  1.467652e+05  0.000000  \n",
       "13294125 2022         0.0     0.0       0.000000  1.735668e+06  0.000000  \n",
       "13339170 2022         0.0     0.0       0.000000  1.445458e+05  0.000000  \n",
       "\n",
       "[724 rows x 10 columns]"
      ]
     },
     "execution_count": 24,
     "metadata": {},
     "output_type": "execute_result"
    }
   ],
   "source": [
    "galleria_db['PS_SALE_PSR매출'][use_col].groupby(['mem_no','saldate']).agg(np.average)"
   ]
  },
  {
   "cell_type": "markdown",
   "metadata": {},
   "source": [
    "---\n",
    "\n",
    "* 데이터 Join ['GM_IND_MEM_개인회원정보','GM_GRADE_TARGET_회원등급최종대상자_PJ추출'], ['PS_SALE_PSR매출']"
   ]
  },
  {
   "cell_type": "markdown",
   "metadata": {},
   "source": [
    "* 결합 전 ID 교집합 수 확인"
   ]
  },
  {
   "cell_type": "code",
   "execution_count": 25,
   "metadata": {},
   "outputs": [
    {
     "name": "stdout",
     "output_type": "stream",
     "text": [
      "개인회원 정보와 PS_SALE_PSR(FKey) 교집합 개수 : 385 명\n"
     ]
    }
   ],
   "source": [
    "s1 = set(galleria_df.mem_no) \n",
    "s2 = set(galleria_db['PS_SALE_PSR매출'].mem_no)\n",
    "\n",
    "print('개인회원 정보와 PS_SALE_PSR(FKey) 교집합 개수 :' ,len(s1 & s2),'명')\n",
    "\n"
   ]
  },
  {
   "cell_type": "code",
   "execution_count": 26,
   "metadata": {},
   "outputs": [],
   "source": [
    "# 데이터 결합 \n",
    "\n",
    "galleria_df = pd.merge(\n",
    "\tgalleria_df,\n",
    "\tgalleria_db['PS_SALE_PSR매출'][use_col].groupby(['mem_no','saldate']).agg(np.average),\n",
    "\thow = 'left',\n",
    "\tleft_on = 'mem_no',\n",
    "\tright_on = 'mem_no'\n",
    ")"
   ]
  },
  {
   "cell_type": "markdown",
   "metadata": {},
   "source": [
    "---\n",
    "#### PSR 고객의 각 변수 별 상관관계 Plot"
   ]
  },
  {
   "cell_type": "code",
   "execution_count": 27,
   "metadata": {},
   "outputs": [
    {
     "data": {
      "text/html": [
       "<div>\n",
       "<style scoped>\n",
       "    .dataframe tbody tr th:only-of-type {\n",
       "        vertical-align: middle;\n",
       "    }\n",
       "\n",
       "    .dataframe tbody tr th {\n",
       "        vertical-align: top;\n",
       "    }\n",
       "\n",
       "    .dataframe thead th {\n",
       "        text-align: right;\n",
       "    }\n",
       "</style>\n",
       "<table border=\"1\" class=\"dataframe\">\n",
       "  <thead>\n",
       "    <tr style=\"text-align: right;\">\n",
       "      <th></th>\n",
       "      <th>mem_no</th>\n",
       "      <th>credit_card_first_join_ymd</th>\n",
       "      <th>memship_join_ymd</th>\n",
       "      <th>foreiner_flag_cd</th>\n",
       "      <th>foreiner_flag_nm</th>\n",
       "      <th>email_recv_agree_yn</th>\n",
       "      <th>sms_agree_yn</th>\n",
       "      <th>dm_recv_agree_yn</th>\n",
       "      <th>tm_agree_yn</th>\n",
       "      <th>inet_email_recv_agree_yn</th>\n",
       "      <th>...</th>\n",
       "      <th>salqty</th>\n",
       "      <th>unit</th>\n",
       "      <th>itdiscrate</th>\n",
       "      <th>netqty</th>\n",
       "      <th>etcdiscamt</th>\n",
       "      <th>mobdisc</th>\n",
       "      <th>cnpcnt</th>\n",
       "      <th>pric</th>\n",
       "      <th>vatamt</th>\n",
       "      <th>salrat</th>\n",
       "    </tr>\n",
       "  </thead>\n",
       "  <tbody>\n",
       "    <tr>\n",
       "      <th>1234</th>\n",
       "      <td>10045825</td>\n",
       "      <td>1994-04-20</td>\n",
       "      <td>2021-12-30</td>\n",
       "      <td>1.0</td>\n",
       "      <td>내국인</td>\n",
       "      <td>N</td>\n",
       "      <td>Y</td>\n",
       "      <td>Y</td>\n",
       "      <td>Y</td>\n",
       "      <td>N</td>\n",
       "      <td>...</td>\n",
       "      <td>1.000000</td>\n",
       "      <td>5.644875e+06</td>\n",
       "      <td>0.000000</td>\n",
       "      <td>0.000000</td>\n",
       "      <td>0.0</td>\n",
       "      <td>0.0</td>\n",
       "      <td>0.0</td>\n",
       "      <td>0.000000</td>\n",
       "      <td>5.131704e+05</td>\n",
       "      <td>0.000000</td>\n",
       "    </tr>\n",
       "    <tr>\n",
       "      <th>1235</th>\n",
       "      <td>10045825</td>\n",
       "      <td>1994-04-20</td>\n",
       "      <td>2021-12-30</td>\n",
       "      <td>1.0</td>\n",
       "      <td>내국인</td>\n",
       "      <td>N</td>\n",
       "      <td>Y</td>\n",
       "      <td>Y</td>\n",
       "      <td>Y</td>\n",
       "      <td>N</td>\n",
       "      <td>...</td>\n",
       "      <td>1.000000</td>\n",
       "      <td>5.644875e+06</td>\n",
       "      <td>0.000000</td>\n",
       "      <td>0.000000</td>\n",
       "      <td>0.0</td>\n",
       "      <td>0.0</td>\n",
       "      <td>0.0</td>\n",
       "      <td>0.000000</td>\n",
       "      <td>5.131704e+05</td>\n",
       "      <td>0.000000</td>\n",
       "    </tr>\n",
       "    <tr>\n",
       "      <th>1236</th>\n",
       "      <td>10045825</td>\n",
       "      <td>1994-04-20</td>\n",
       "      <td>2021-12-30</td>\n",
       "      <td>1.0</td>\n",
       "      <td>내국인</td>\n",
       "      <td>N</td>\n",
       "      <td>Y</td>\n",
       "      <td>Y</td>\n",
       "      <td>Y</td>\n",
       "      <td>N</td>\n",
       "      <td>...</td>\n",
       "      <td>1.000000</td>\n",
       "      <td>5.644875e+06</td>\n",
       "      <td>0.000000</td>\n",
       "      <td>0.000000</td>\n",
       "      <td>0.0</td>\n",
       "      <td>0.0</td>\n",
       "      <td>0.0</td>\n",
       "      <td>0.000000</td>\n",
       "      <td>5.131704e+05</td>\n",
       "      <td>0.000000</td>\n",
       "    </tr>\n",
       "    <tr>\n",
       "      <th>1650</th>\n",
       "      <td>10071807</td>\n",
       "      <td>1994-07-02</td>\n",
       "      <td>2013-11-29</td>\n",
       "      <td>1.0</td>\n",
       "      <td>내국인</td>\n",
       "      <td>N</td>\n",
       "      <td>N</td>\n",
       "      <td>N</td>\n",
       "      <td>N</td>\n",
       "      <td>N</td>\n",
       "      <td>...</td>\n",
       "      <td>2.519481</td>\n",
       "      <td>1.647426e+07</td>\n",
       "      <td>4.350649</td>\n",
       "      <td>4.038961</td>\n",
       "      <td>0.0</td>\n",
       "      <td>0.0</td>\n",
       "      <td>0.0</td>\n",
       "      <td>28509.480519</td>\n",
       "      <td>1.406855e+06</td>\n",
       "      <td>0.000000</td>\n",
       "    </tr>\n",
       "    <tr>\n",
       "      <th>1651</th>\n",
       "      <td>10071807</td>\n",
       "      <td>1994-07-02</td>\n",
       "      <td>2013-11-29</td>\n",
       "      <td>1.0</td>\n",
       "      <td>내국인</td>\n",
       "      <td>N</td>\n",
       "      <td>N</td>\n",
       "      <td>N</td>\n",
       "      <td>N</td>\n",
       "      <td>N</td>\n",
       "      <td>...</td>\n",
       "      <td>2.542857</td>\n",
       "      <td>6.105370e+06</td>\n",
       "      <td>6.180952</td>\n",
       "      <td>0.000000</td>\n",
       "      <td>0.0</td>\n",
       "      <td>0.0</td>\n",
       "      <td>0.0</td>\n",
       "      <td>25980.952381</td>\n",
       "      <td>5.671157e+05</td>\n",
       "      <td>1.809524</td>\n",
       "    </tr>\n",
       "  </tbody>\n",
       "</table>\n",
       "<p>5 rows × 34 columns</p>\n",
       "</div>"
      ],
      "text/plain": [
       "        mem_no credit_card_first_join_ymd memship_join_ymd  foreiner_flag_cd  \\\n",
       "1234  10045825                 1994-04-20       2021-12-30               1.0   \n",
       "1235  10045825                 1994-04-20       2021-12-30               1.0   \n",
       "1236  10045825                 1994-04-20       2021-12-30               1.0   \n",
       "1650  10071807                 1994-07-02       2013-11-29               1.0   \n",
       "1651  10071807                 1994-07-02       2013-11-29               1.0   \n",
       "\n",
       "     foreiner_flag_nm email_recv_agree_yn sms_agree_yn dm_recv_agree_yn  \\\n",
       "1234              내국인                   N            Y                Y   \n",
       "1235              내국인                   N            Y                Y   \n",
       "1236              내국인                   N            Y                Y   \n",
       "1650              내국인                   N            N                N   \n",
       "1651              내국인                   N            N                N   \n",
       "\n",
       "     tm_agree_yn inet_email_recv_agree_yn  ...    salqty          unit  \\\n",
       "1234           Y                        N  ...  1.000000  5.644875e+06   \n",
       "1235           Y                        N  ...  1.000000  5.644875e+06   \n",
       "1236           Y                        N  ...  1.000000  5.644875e+06   \n",
       "1650           N                        N  ...  2.519481  1.647426e+07   \n",
       "1651           N                        N  ...  2.542857  6.105370e+06   \n",
       "\n",
       "      itdiscrate    netqty etcdiscamt  mobdisc  cnpcnt          pric  \\\n",
       "1234    0.000000  0.000000        0.0      0.0     0.0      0.000000   \n",
       "1235    0.000000  0.000000        0.0      0.0     0.0      0.000000   \n",
       "1236    0.000000  0.000000        0.0      0.0     0.0      0.000000   \n",
       "1650    4.350649  4.038961        0.0      0.0     0.0  28509.480519   \n",
       "1651    6.180952  0.000000        0.0      0.0     0.0  25980.952381   \n",
       "\n",
       "            vatamt    salrat  \n",
       "1234  5.131704e+05  0.000000  \n",
       "1235  5.131704e+05  0.000000  \n",
       "1236  5.131704e+05  0.000000  \n",
       "1650  1.406855e+06  0.000000  \n",
       "1651  5.671157e+05  1.809524  \n",
       "\n",
       "[5 rows x 34 columns]"
      ]
     },
     "execution_count": 27,
     "metadata": {},
     "output_type": "execute_result"
    }
   ],
   "source": [
    "galleria_df.dropna().head()"
   ]
  },
  {
   "cell_type": "markdown",
   "metadata": {},
   "source": [
    "* Numetric 컬럼 중 사용가능한 컬럼 추출"
   ]
  },
  {
   "cell_type": "code",
   "execution_count": 28,
   "metadata": {},
   "outputs": [
    {
     "data": {
      "text/html": [
       "<div>\n",
       "<style scoped>\n",
       "    .dataframe tbody tr th:only-of-type {\n",
       "        vertical-align: middle;\n",
       "    }\n",
       "\n",
       "    .dataframe tbody tr th {\n",
       "        vertical-align: top;\n",
       "    }\n",
       "\n",
       "    .dataframe thead th {\n",
       "        text-align: right;\n",
       "    }\n",
       "</style>\n",
       "<table border=\"1\" class=\"dataframe\">\n",
       "  <thead>\n",
       "    <tr style=\"text-align: right;\">\n",
       "      <th></th>\n",
       "      <th>tot_net_sale_amt</th>\n",
       "      <th>grade_lar_cd</th>\n",
       "      <th>salqty</th>\n",
       "      <th>unit</th>\n",
       "      <th>itdiscrate</th>\n",
       "      <th>netqty</th>\n",
       "      <th>etcdiscamt</th>\n",
       "      <th>pric</th>\n",
       "      <th>vatamt</th>\n",
       "      <th>salrat</th>\n",
       "    </tr>\n",
       "  </thead>\n",
       "  <tbody>\n",
       "    <tr>\n",
       "      <th>562</th>\n",
       "      <td>277468775.0</td>\n",
       "      <td>1.0</td>\n",
       "      <td>1.0</td>\n",
       "      <td>79652250.0</td>\n",
       "      <td>0.0</td>\n",
       "      <td>0.0</td>\n",
       "      <td>0.0</td>\n",
       "      <td>0.0</td>\n",
       "      <td>7241113.5</td>\n",
       "      <td>0.0</td>\n",
       "    </tr>\n",
       "    <tr>\n",
       "      <th>563</th>\n",
       "      <td>106422025.0</td>\n",
       "      <td>1.0</td>\n",
       "      <td>1.0</td>\n",
       "      <td>79652250.0</td>\n",
       "      <td>0.0</td>\n",
       "      <td>0.0</td>\n",
       "      <td>0.0</td>\n",
       "      <td>0.0</td>\n",
       "      <td>7241113.5</td>\n",
       "      <td>0.0</td>\n",
       "    </tr>\n",
       "    <tr>\n",
       "      <th>564</th>\n",
       "      <td>349261790.0</td>\n",
       "      <td>2.0</td>\n",
       "      <td>1.0</td>\n",
       "      <td>79652250.0</td>\n",
       "      <td>0.0</td>\n",
       "      <td>0.0</td>\n",
       "      <td>0.0</td>\n",
       "      <td>0.0</td>\n",
       "      <td>7241113.5</td>\n",
       "      <td>0.0</td>\n",
       "    </tr>\n",
       "    <tr>\n",
       "      <th>565</th>\n",
       "      <td>32112280.0</td>\n",
       "      <td>2.0</td>\n",
       "      <td>1.0</td>\n",
       "      <td>79652250.0</td>\n",
       "      <td>0.0</td>\n",
       "      <td>0.0</td>\n",
       "      <td>0.0</td>\n",
       "      <td>0.0</td>\n",
       "      <td>7241113.5</td>\n",
       "      <td>0.0</td>\n",
       "    </tr>\n",
       "    <tr>\n",
       "      <th>817</th>\n",
       "      <td>61500000.0</td>\n",
       "      <td>2.0</td>\n",
       "      <td>1.0</td>\n",
       "      <td>1785000.0</td>\n",
       "      <td>0.0</td>\n",
       "      <td>0.0</td>\n",
       "      <td>0.0</td>\n",
       "      <td>0.0</td>\n",
       "      <td>162273.0</td>\n",
       "      <td>0.0</td>\n",
       "    </tr>\n",
       "  </tbody>\n",
       "</table>\n",
       "</div>"
      ],
      "text/plain": [
       "     tot_net_sale_amt  grade_lar_cd  salqty        unit  itdiscrate  netqty  \\\n",
       "562       277468775.0           1.0     1.0  79652250.0         0.0     0.0   \n",
       "563       106422025.0           1.0     1.0  79652250.0         0.0     0.0   \n",
       "564       349261790.0           2.0     1.0  79652250.0         0.0     0.0   \n",
       "565        32112280.0           2.0     1.0  79652250.0         0.0     0.0   \n",
       "817        61500000.0           2.0     1.0   1785000.0         0.0     0.0   \n",
       "\n",
       "     etcdiscamt  pric     vatamt  salrat  \n",
       "562         0.0   0.0  7241113.5     0.0  \n",
       "563         0.0   0.0  7241113.5     0.0  \n",
       "564         0.0   0.0  7241113.5     0.0  \n",
       "565         0.0   0.0  7241113.5     0.0  \n",
       "817         0.0   0.0   162273.0     0.0  "
      ]
     },
     "execution_count": 28,
     "metadata": {},
     "output_type": "execute_result"
    }
   ],
   "source": [
    "use_col = [\n",
    "\t'tot_net_sale_amt',\n",
    "\t'grade_lar_cd', \n",
    "\t'salqty', \n",
    "\t'unit', \n",
    "\t'itdiscrate', \n",
    "\t'netqty', \n",
    "\t'etcdiscamt', \n",
    "\t'pric', \n",
    "\t'vatamt', \n",
    "\t'salrat'\n",
    "]\n",
    "\n",
    "psr_df = galleria_df[use_col].dropna()\n",
    "psr_df.head()\n"
   ]
  },
  {
   "cell_type": "code",
   "execution_count": 29,
   "metadata": {},
   "outputs": [],
   "source": [
    "# 등급 코드를 역순으로 (psr -> 4 로 바꾸기 (기존은 1로 되어 있음))\n",
    "psr_df.grade_lar_cd = 5-psr_df.grade_lar_cd"
   ]
  },
  {
   "cell_type": "code",
   "execution_count": 30,
   "metadata": {},
   "outputs": [],
   "source": [
    "psr_df.rename(\n",
    "\tcolumns = { \n",
    "\t\t'tot_net_sale_amt': '총순매출액',\n",
    "\t\t'grade_lar_cd': '등급대분류', \n",
    "\t\t'concige_voch_use_cnt': '컨시어지 바우처 사용 횟수', \n",
    "\t\t'salqty': '평균 매출 수량', \n",
    "\t\t'unit': '평균 매가단가', \n",
    "\t\t'itdiscrate': '평균 애누리 할인율', \n",
    "\t\t'netqty': '평균 내용량', \n",
    "\t\t'etcdiscamt': '평균 기타할인금액', \n",
    "\t\t'cnpcnt': '평균 구폰건수', \n",
    "\t\t'pric': '평균 정상단가', \n",
    "\t\t'vatamt': '평균 부가세 금액', \n",
    "\t\t'salrat': '평균 행사율'\n",
    "\t},\n",
    "\tinplace=True\n",
    ")\n",
    "\n",
    "\n"
   ]
  },
  {
   "cell_type": "code",
   "execution_count": 31,
   "metadata": {},
   "outputs": [
    {
     "data": {
      "text/html": [
       "<div>\n",
       "<style scoped>\n",
       "    .dataframe tbody tr th:only-of-type {\n",
       "        vertical-align: middle;\n",
       "    }\n",
       "\n",
       "    .dataframe tbody tr th {\n",
       "        vertical-align: top;\n",
       "    }\n",
       "\n",
       "    .dataframe thead th {\n",
       "        text-align: right;\n",
       "    }\n",
       "</style>\n",
       "<table border=\"1\" class=\"dataframe\">\n",
       "  <thead>\n",
       "    <tr style=\"text-align: right;\">\n",
       "      <th></th>\n",
       "      <th>총순매출액</th>\n",
       "      <th>등급대분류</th>\n",
       "      <th>평균 매출 수량</th>\n",
       "      <th>평균 매가단가</th>\n",
       "      <th>평균 애누리 할인율</th>\n",
       "      <th>평균 내용량</th>\n",
       "      <th>평균 기타할인금액</th>\n",
       "      <th>평균 정상단가</th>\n",
       "      <th>평균 부가세 금액</th>\n",
       "      <th>평균 행사율</th>\n",
       "    </tr>\n",
       "  </thead>\n",
       "  <tbody>\n",
       "    <tr>\n",
       "      <th>562</th>\n",
       "      <td>277468775.0</td>\n",
       "      <td>4.0</td>\n",
       "      <td>1.000000</td>\n",
       "      <td>7.965225e+07</td>\n",
       "      <td>0.000000</td>\n",
       "      <td>0.0</td>\n",
       "      <td>0.000000</td>\n",
       "      <td>0.000000</td>\n",
       "      <td>7.241114e+06</td>\n",
       "      <td>0.000000</td>\n",
       "    </tr>\n",
       "    <tr>\n",
       "      <th>563</th>\n",
       "      <td>106422025.0</td>\n",
       "      <td>4.0</td>\n",
       "      <td>1.000000</td>\n",
       "      <td>7.965225e+07</td>\n",
       "      <td>0.000000</td>\n",
       "      <td>0.0</td>\n",
       "      <td>0.000000</td>\n",
       "      <td>0.000000</td>\n",
       "      <td>7.241114e+06</td>\n",
       "      <td>0.000000</td>\n",
       "    </tr>\n",
       "    <tr>\n",
       "      <th>564</th>\n",
       "      <td>349261790.0</td>\n",
       "      <td>3.0</td>\n",
       "      <td>1.000000</td>\n",
       "      <td>7.965225e+07</td>\n",
       "      <td>0.000000</td>\n",
       "      <td>0.0</td>\n",
       "      <td>0.000000</td>\n",
       "      <td>0.000000</td>\n",
       "      <td>7.241114e+06</td>\n",
       "      <td>0.000000</td>\n",
       "    </tr>\n",
       "    <tr>\n",
       "      <th>565</th>\n",
       "      <td>32112280.0</td>\n",
       "      <td>3.0</td>\n",
       "      <td>1.000000</td>\n",
       "      <td>7.965225e+07</td>\n",
       "      <td>0.000000</td>\n",
       "      <td>0.0</td>\n",
       "      <td>0.000000</td>\n",
       "      <td>0.000000</td>\n",
       "      <td>7.241114e+06</td>\n",
       "      <td>0.000000</td>\n",
       "    </tr>\n",
       "    <tr>\n",
       "      <th>817</th>\n",
       "      <td>61500000.0</td>\n",
       "      <td>3.0</td>\n",
       "      <td>1.000000</td>\n",
       "      <td>1.785000e+06</td>\n",
       "      <td>0.000000</td>\n",
       "      <td>0.0</td>\n",
       "      <td>0.000000</td>\n",
       "      <td>0.000000</td>\n",
       "      <td>1.622730e+05</td>\n",
       "      <td>0.000000</td>\n",
       "    </tr>\n",
       "    <tr>\n",
       "      <th>...</th>\n",
       "      <td>...</td>\n",
       "      <td>...</td>\n",
       "      <td>...</td>\n",
       "      <td>...</td>\n",
       "      <td>...</td>\n",
       "      <td>...</td>\n",
       "      <td>...</td>\n",
       "      <td>...</td>\n",
       "      <td>...</td>\n",
       "      <td>...</td>\n",
       "    </tr>\n",
       "    <tr>\n",
       "      <th>179240</th>\n",
       "      <td>601532549.0</td>\n",
       "      <td>4.0</td>\n",
       "      <td>0.944444</td>\n",
       "      <td>3.395556e+06</td>\n",
       "      <td>0.555556</td>\n",
       "      <td>0.0</td>\n",
       "      <td>0.000000</td>\n",
       "      <td>0.000000</td>\n",
       "      <td>3.014494e+05</td>\n",
       "      <td>3.333333</td>\n",
       "    </tr>\n",
       "    <tr>\n",
       "      <th>179241</th>\n",
       "      <td>601532549.0</td>\n",
       "      <td>4.0</td>\n",
       "      <td>1.000000</td>\n",
       "      <td>2.322857e+06</td>\n",
       "      <td>0.000000</td>\n",
       "      <td>0.0</td>\n",
       "      <td>0.000000</td>\n",
       "      <td>0.000000</td>\n",
       "      <td>2.111687e+05</td>\n",
       "      <td>0.000000</td>\n",
       "    </tr>\n",
       "    <tr>\n",
       "      <th>195637</th>\n",
       "      <td>0.0</td>\n",
       "      <td>4.0</td>\n",
       "      <td>1.000000</td>\n",
       "      <td>1.298710e+08</td>\n",
       "      <td>0.000000</td>\n",
       "      <td>0.0</td>\n",
       "      <td>0.000000</td>\n",
       "      <td>0.000000</td>\n",
       "      <td>1.180646e+07</td>\n",
       "      <td>0.000000</td>\n",
       "    </tr>\n",
       "    <tr>\n",
       "      <th>195638</th>\n",
       "      <td>0.0</td>\n",
       "      <td>4.0</td>\n",
       "      <td>1.000000</td>\n",
       "      <td>1.298710e+08</td>\n",
       "      <td>0.000000</td>\n",
       "      <td>0.0</td>\n",
       "      <td>0.000000</td>\n",
       "      <td>0.000000</td>\n",
       "      <td>1.180646e+07</td>\n",
       "      <td>0.000000</td>\n",
       "    </tr>\n",
       "    <tr>\n",
       "      <th>198899</th>\n",
       "      <td>0.0</td>\n",
       "      <td>4.0</td>\n",
       "      <td>2.035714</td>\n",
       "      <td>1.692929e+06</td>\n",
       "      <td>5.714286</td>\n",
       "      <td>0.0</td>\n",
       "      <td>139285.714286</td>\n",
       "      <td>465821.428571</td>\n",
       "      <td>1.467652e+05</td>\n",
       "      <td>0.000000</td>\n",
       "    </tr>\n",
       "  </tbody>\n",
       "</table>\n",
       "<p>3202 rows × 10 columns</p>\n",
       "</div>"
      ],
      "text/plain": [
       "              총순매출액  등급대분류  평균 매출 수량       평균 매가단가  평균 애누리 할인율  평균 내용량  \\\n",
       "562     277468775.0    4.0  1.000000  7.965225e+07    0.000000     0.0   \n",
       "563     106422025.0    4.0  1.000000  7.965225e+07    0.000000     0.0   \n",
       "564     349261790.0    3.0  1.000000  7.965225e+07    0.000000     0.0   \n",
       "565      32112280.0    3.0  1.000000  7.965225e+07    0.000000     0.0   \n",
       "817      61500000.0    3.0  1.000000  1.785000e+06    0.000000     0.0   \n",
       "...             ...    ...       ...           ...         ...     ...   \n",
       "179240  601532549.0    4.0  0.944444  3.395556e+06    0.555556     0.0   \n",
       "179241  601532549.0    4.0  1.000000  2.322857e+06    0.000000     0.0   \n",
       "195637          0.0    4.0  1.000000  1.298710e+08    0.000000     0.0   \n",
       "195638          0.0    4.0  1.000000  1.298710e+08    0.000000     0.0   \n",
       "198899          0.0    4.0  2.035714  1.692929e+06    5.714286     0.0   \n",
       "\n",
       "            평균 기타할인금액        평균 정상단가     평균 부가세 금액    평균 행사율  \n",
       "562          0.000000       0.000000  7.241114e+06  0.000000  \n",
       "563          0.000000       0.000000  7.241114e+06  0.000000  \n",
       "564          0.000000       0.000000  7.241114e+06  0.000000  \n",
       "565          0.000000       0.000000  7.241114e+06  0.000000  \n",
       "817          0.000000       0.000000  1.622730e+05  0.000000  \n",
       "...               ...            ...           ...       ...  \n",
       "179240       0.000000       0.000000  3.014494e+05  3.333333  \n",
       "179241       0.000000       0.000000  2.111687e+05  0.000000  \n",
       "195637       0.000000       0.000000  1.180646e+07  0.000000  \n",
       "195638       0.000000       0.000000  1.180646e+07  0.000000  \n",
       "198899  139285.714286  465821.428571  1.467652e+05  0.000000  \n",
       "\n",
       "[3202 rows x 10 columns]"
      ]
     },
     "execution_count": 31,
     "metadata": {},
     "output_type": "execute_result"
    }
   ],
   "source": [
    "psr_df"
   ]
  },
  {
   "cell_type": "code",
   "execution_count": 32,
   "metadata": {},
   "outputs": [
    {
     "data": {
      "text/html": [
       "<div>\n",
       "<style scoped>\n",
       "    .dataframe tbody tr th:only-of-type {\n",
       "        vertical-align: middle;\n",
       "    }\n",
       "\n",
       "    .dataframe tbody tr th {\n",
       "        vertical-align: top;\n",
       "    }\n",
       "\n",
       "    .dataframe thead th {\n",
       "        text-align: right;\n",
       "    }\n",
       "</style>\n",
       "<table border=\"1\" class=\"dataframe\">\n",
       "  <thead>\n",
       "    <tr style=\"text-align: right;\">\n",
       "      <th></th>\n",
       "      <th>총순매출액</th>\n",
       "      <th>등급대분류</th>\n",
       "      <th>평균 매출 수량</th>\n",
       "      <th>평균 매가단가</th>\n",
       "      <th>평균 애누리 할인율</th>\n",
       "      <th>평균 내용량</th>\n",
       "      <th>평균 기타할인금액</th>\n",
       "      <th>평균 정상단가</th>\n",
       "      <th>평균 부가세 금액</th>\n",
       "      <th>평균 행사율</th>\n",
       "    </tr>\n",
       "  </thead>\n",
       "  <tbody>\n",
       "    <tr>\n",
       "      <th>총순매출액</th>\n",
       "      <td>1.000000</td>\n",
       "      <td>0.203954</td>\n",
       "      <td>-0.013531</td>\n",
       "      <td>0.077449</td>\n",
       "      <td>-0.001689</td>\n",
       "      <td>0.030487</td>\n",
       "      <td>-0.009183</td>\n",
       "      <td>0.033523</td>\n",
       "      <td>0.077682</td>\n",
       "      <td>-0.014965</td>\n",
       "    </tr>\n",
       "    <tr>\n",
       "      <th>등급대분류</th>\n",
       "      <td>0.203954</td>\n",
       "      <td>1.000000</td>\n",
       "      <td>-0.033046</td>\n",
       "      <td>0.036938</td>\n",
       "      <td>0.029487</td>\n",
       "      <td>-0.021577</td>\n",
       "      <td>0.008185</td>\n",
       "      <td>0.016971</td>\n",
       "      <td>0.036524</td>\n",
       "      <td>-0.062481</td>\n",
       "    </tr>\n",
       "    <tr>\n",
       "      <th>평균 매출 수량</th>\n",
       "      <td>-0.013531</td>\n",
       "      <td>-0.033046</td>\n",
       "      <td>1.000000</td>\n",
       "      <td>-0.038070</td>\n",
       "      <td>0.045746</td>\n",
       "      <td>0.005001</td>\n",
       "      <td>0.056361</td>\n",
       "      <td>0.001850</td>\n",
       "      <td>-0.031878</td>\n",
       "      <td>-0.003733</td>\n",
       "    </tr>\n",
       "    <tr>\n",
       "      <th>평균 매가단가</th>\n",
       "      <td>0.077449</td>\n",
       "      <td>0.036938</td>\n",
       "      <td>-0.038070</td>\n",
       "      <td>1.000000</td>\n",
       "      <td>-0.219419</td>\n",
       "      <td>-0.027166</td>\n",
       "      <td>-0.013018</td>\n",
       "      <td>0.007937</td>\n",
       "      <td>0.999642</td>\n",
       "      <td>-0.074215</td>\n",
       "    </tr>\n",
       "    <tr>\n",
       "      <th>평균 애누리 할인율</th>\n",
       "      <td>-0.001689</td>\n",
       "      <td>0.029487</td>\n",
       "      <td>0.045746</td>\n",
       "      <td>-0.219419</td>\n",
       "      <td>1.000000</td>\n",
       "      <td>0.018175</td>\n",
       "      <td>0.074424</td>\n",
       "      <td>0.028497</td>\n",
       "      <td>-0.218378</td>\n",
       "      <td>-0.007158</td>\n",
       "    </tr>\n",
       "    <tr>\n",
       "      <th>평균 내용량</th>\n",
       "      <td>0.030487</td>\n",
       "      <td>-0.021577</td>\n",
       "      <td>0.005001</td>\n",
       "      <td>-0.027166</td>\n",
       "      <td>0.018175</td>\n",
       "      <td>1.000000</td>\n",
       "      <td>-0.002849</td>\n",
       "      <td>0.000032</td>\n",
       "      <td>-0.026882</td>\n",
       "      <td>-0.010074</td>\n",
       "    </tr>\n",
       "    <tr>\n",
       "      <th>평균 기타할인금액</th>\n",
       "      <td>-0.009183</td>\n",
       "      <td>0.008185</td>\n",
       "      <td>0.056361</td>\n",
       "      <td>-0.013018</td>\n",
       "      <td>0.074424</td>\n",
       "      <td>-0.002849</td>\n",
       "      <td>1.000000</td>\n",
       "      <td>0.508656</td>\n",
       "      <td>-0.015534</td>\n",
       "      <td>-0.015497</td>\n",
       "    </tr>\n",
       "    <tr>\n",
       "      <th>평균 정상단가</th>\n",
       "      <td>0.033523</td>\n",
       "      <td>0.016971</td>\n",
       "      <td>0.001850</td>\n",
       "      <td>0.007937</td>\n",
       "      <td>0.028497</td>\n",
       "      <td>0.000032</td>\n",
       "      <td>0.508656</td>\n",
       "      <td>1.000000</td>\n",
       "      <td>0.006157</td>\n",
       "      <td>-0.016086</td>\n",
       "    </tr>\n",
       "    <tr>\n",
       "      <th>평균 부가세 금액</th>\n",
       "      <td>0.077682</td>\n",
       "      <td>0.036524</td>\n",
       "      <td>-0.031878</td>\n",
       "      <td>0.999642</td>\n",
       "      <td>-0.218378</td>\n",
       "      <td>-0.026882</td>\n",
       "      <td>-0.015534</td>\n",
       "      <td>0.006157</td>\n",
       "      <td>1.000000</td>\n",
       "      <td>-0.073916</td>\n",
       "    </tr>\n",
       "    <tr>\n",
       "      <th>평균 행사율</th>\n",
       "      <td>-0.014965</td>\n",
       "      <td>-0.062481</td>\n",
       "      <td>-0.003733</td>\n",
       "      <td>-0.074215</td>\n",
       "      <td>-0.007158</td>\n",
       "      <td>-0.010074</td>\n",
       "      <td>-0.015497</td>\n",
       "      <td>-0.016086</td>\n",
       "      <td>-0.073916</td>\n",
       "      <td>1.000000</td>\n",
       "    </tr>\n",
       "  </tbody>\n",
       "</table>\n",
       "</div>"
      ],
      "text/plain": [
       "               총순매출액     등급대분류  평균 매출 수량   평균 매가단가  평균 애누리 할인율    평균 내용량  \\\n",
       "총순매출액       1.000000  0.203954 -0.013531  0.077449   -0.001689  0.030487   \n",
       "등급대분류       0.203954  1.000000 -0.033046  0.036938    0.029487 -0.021577   \n",
       "평균 매출 수량   -0.013531 -0.033046  1.000000 -0.038070    0.045746  0.005001   \n",
       "평균 매가단가     0.077449  0.036938 -0.038070  1.000000   -0.219419 -0.027166   \n",
       "평균 애누리 할인율 -0.001689  0.029487  0.045746 -0.219419    1.000000  0.018175   \n",
       "평균 내용량      0.030487 -0.021577  0.005001 -0.027166    0.018175  1.000000   \n",
       "평균 기타할인금액  -0.009183  0.008185  0.056361 -0.013018    0.074424 -0.002849   \n",
       "평균 정상단가     0.033523  0.016971  0.001850  0.007937    0.028497  0.000032   \n",
       "평균 부가세 금액   0.077682  0.036524 -0.031878  0.999642   -0.218378 -0.026882   \n",
       "평균 행사율     -0.014965 -0.062481 -0.003733 -0.074215   -0.007158 -0.010074   \n",
       "\n",
       "            평균 기타할인금액   평균 정상단가  평균 부가세 금액    평균 행사율  \n",
       "총순매출액       -0.009183  0.033523   0.077682 -0.014965  \n",
       "등급대분류        0.008185  0.016971   0.036524 -0.062481  \n",
       "평균 매출 수량     0.056361  0.001850  -0.031878 -0.003733  \n",
       "평균 매가단가     -0.013018  0.007937   0.999642 -0.074215  \n",
       "평균 애누리 할인율   0.074424  0.028497  -0.218378 -0.007158  \n",
       "평균 내용량      -0.002849  0.000032  -0.026882 -0.010074  \n",
       "평균 기타할인금액    1.000000  0.508656  -0.015534 -0.015497  \n",
       "평균 정상단가      0.508656  1.000000   0.006157 -0.016086  \n",
       "평균 부가세 금액   -0.015534  0.006157   1.000000 -0.073916  \n",
       "평균 행사율      -0.015497 -0.016086  -0.073916  1.000000  "
      ]
     },
     "execution_count": 32,
     "metadata": {},
     "output_type": "execute_result"
    }
   ],
   "source": [
    "\n",
    "psr_df_corr = psr_df.corr()\n",
    "\n",
    "psr_df_corr"
   ]
  },
  {
   "cell_type": "code",
   "execution_count": 34,
   "metadata": {},
   "outputs": [
    {
     "data": {
      "application/vnd.plotly.v1+json": {
       "config": {
        "plotlyServerURL": "https://plot.ly"
       },
       "data": [
        {
         "text": [
          [
           1,
           0.2039543651125877,
           -0.013531278042809711,
           0.07744915859083476,
           -0.0016893100735925785,
           0.03048710273478502,
           -0.009182994962644407,
           0.033523327408065115,
           0.07768182082332536,
           -0.014965223455608799
          ],
          [
           0.2039543651125877,
           1,
           -0.03304641022953565,
           0.03693824159369459,
           0.029487142684916503,
           -0.021576903554168598,
           0.008184581727313952,
           0.016970586995335653,
           0.036523846607370875,
           -0.06248079365563627
          ],
          [
           -0.013531278042809711,
           -0.03304641022953565,
           1,
           -0.03807029978991194,
           0.04574586694723823,
           0.005000989505194662,
           0.05636119290722177,
           0.0018504566583613408,
           -0.0318777481169691,
           -0.0037332425579447203
          ],
          [
           0.07744915859083476,
           0.03693824159369459,
           -0.03807029978991194,
           1,
           -0.21941896767938676,
           -0.027165880144744886,
           -0.01301780184228379,
           0.007936563530439068,
           0.9996416343631863,
           -0.07421467568962502
          ],
          [
           -0.0016893100735925785,
           0.029487142684916503,
           0.04574586694723823,
           -0.21941896767938676,
           1,
           0.018175159848504516,
           0.07442380156570458,
           0.028497451085224754,
           -0.21837819377681014,
           -0.007157732792213974
          ],
          [
           0.03048710273478502,
           -0.021576903554168598,
           0.005000989505194662,
           -0.027165880144744886,
           0.018175159848504516,
           1,
           -0.0028485816054805136,
           0.000031904760601398546,
           -0.02688156988568152,
           -0.01007441622098475
          ],
          [
           -0.009182994962644407,
           0.008184581727313952,
           0.05636119290722177,
           -0.01301780184228379,
           0.07442380156570458,
           -0.0028485816054805136,
           1,
           0.5086561957380631,
           -0.015533738354066465,
           -0.015497159060465239
          ],
          [
           0.033523327408065115,
           0.016970586995335653,
           0.0018504566583613408,
           0.007936563530439068,
           0.028497451085224754,
           0.000031904760601398546,
           0.5086561957380631,
           1,
           0.006156894752766759,
           -0.016086319412582168
          ],
          [
           0.07768182082332536,
           0.036523846607370875,
           -0.0318777481169691,
           0.9996416343631863,
           -0.21837819377681014,
           -0.02688156988568152,
           -0.015533738354066465,
           0.006156894752766759,
           1,
           -0.07391556481718208
          ],
          [
           -0.014965223455608799,
           -0.06248079365563627,
           -0.0037332425579447203,
           -0.07421467568962502,
           -0.007157732792213974,
           -0.01007441622098475,
           -0.015497159060465239,
           -0.016086319412582168,
           -0.07391556481718208,
           1
          ]
         ],
         "texttemplate": "%{text:.2f}",
         "type": "heatmap",
         "x": [
          "총순매출액",
          "등급대분류",
          "평균 매출 수량",
          "평균 매가단가",
          "평균 애누리 할인율",
          "평균 내용량",
          "평균 기타할인금액",
          "평균 정상단가",
          "평균 부가세 금액",
          "평균 행사율"
         ],
         "y": [
          "총순매출액",
          "등급대분류",
          "평균 매출 수량",
          "평균 매가단가",
          "평균 애누리 할인율",
          "평균 내용량",
          "평균 기타할인금액",
          "평균 정상단가",
          "평균 부가세 금액",
          "평균 행사율"
         ],
         "z": [
          [
           1,
           0.2039543651125877,
           -0.013531278042809711,
           0.07744915859083476,
           -0.0016893100735925785,
           0.03048710273478502,
           -0.009182994962644407,
           0.033523327408065115,
           0.07768182082332536,
           -0.014965223455608799
          ],
          [
           0.2039543651125877,
           1,
           -0.03304641022953565,
           0.03693824159369459,
           0.029487142684916503,
           -0.021576903554168598,
           0.008184581727313952,
           0.016970586995335653,
           0.036523846607370875,
           -0.06248079365563627
          ],
          [
           -0.013531278042809711,
           -0.03304641022953565,
           1,
           -0.03807029978991194,
           0.04574586694723823,
           0.005000989505194662,
           0.05636119290722177,
           0.0018504566583613408,
           -0.0318777481169691,
           -0.0037332425579447203
          ],
          [
           0.07744915859083476,
           0.03693824159369459,
           -0.03807029978991194,
           1,
           -0.21941896767938676,
           -0.027165880144744886,
           -0.01301780184228379,
           0.007936563530439068,
           0.9996416343631863,
           -0.07421467568962502
          ],
          [
           -0.0016893100735925785,
           0.029487142684916503,
           0.04574586694723823,
           -0.21941896767938676,
           1,
           0.018175159848504516,
           0.07442380156570458,
           0.028497451085224754,
           -0.21837819377681014,
           -0.007157732792213974
          ],
          [
           0.03048710273478502,
           -0.021576903554168598,
           0.005000989505194662,
           -0.027165880144744886,
           0.018175159848504516,
           1,
           -0.0028485816054805136,
           0.000031904760601398546,
           -0.02688156988568152,
           -0.01007441622098475
          ],
          [
           -0.009182994962644407,
           0.008184581727313952,
           0.05636119290722177,
           -0.01301780184228379,
           0.07442380156570458,
           -0.0028485816054805136,
           1,
           0.5086561957380631,
           -0.015533738354066465,
           -0.015497159060465239
          ],
          [
           0.033523327408065115,
           0.016970586995335653,
           0.0018504566583613408,
           0.007936563530439068,
           0.028497451085224754,
           0.000031904760601398546,
           0.5086561957380631,
           1,
           0.006156894752766759,
           -0.016086319412582168
          ],
          [
           0.07768182082332536,
           0.036523846607370875,
           -0.0318777481169691,
           0.9996416343631863,
           -0.21837819377681014,
           -0.02688156988568152,
           -0.015533738354066465,
           0.006156894752766759,
           1,
           -0.07391556481718208
          ],
          [
           -0.014965223455608799,
           -0.06248079365563627,
           -0.0037332425579447203,
           -0.07421467568962502,
           -0.007157732792213974,
           -0.01007441622098475,
           -0.015497159060465239,
           -0.016086319412582168,
           -0.07391556481718208,
           1
          ]
         ]
        }
       ],
       "layout": {
        "template": {
         "data": {
          "bar": [
           {
            "error_x": {
             "color": "#2a3f5f"
            },
            "error_y": {
             "color": "#2a3f5f"
            },
            "marker": {
             "line": {
              "color": "#E5ECF6",
              "width": 0.5
             },
             "pattern": {
              "fillmode": "overlay",
              "size": 10,
              "solidity": 0.2
             }
            },
            "type": "bar"
           }
          ],
          "barpolar": [
           {
            "marker": {
             "line": {
              "color": "#E5ECF6",
              "width": 0.5
             },
             "pattern": {
              "fillmode": "overlay",
              "size": 10,
              "solidity": 0.2
             }
            },
            "type": "barpolar"
           }
          ],
          "carpet": [
           {
            "aaxis": {
             "endlinecolor": "#2a3f5f",
             "gridcolor": "white",
             "linecolor": "white",
             "minorgridcolor": "white",
             "startlinecolor": "#2a3f5f"
            },
            "baxis": {
             "endlinecolor": "#2a3f5f",
             "gridcolor": "white",
             "linecolor": "white",
             "minorgridcolor": "white",
             "startlinecolor": "#2a3f5f"
            },
            "type": "carpet"
           }
          ],
          "choropleth": [
           {
            "colorbar": {
             "outlinewidth": 0,
             "ticks": ""
            },
            "type": "choropleth"
           }
          ],
          "contour": [
           {
            "colorbar": {
             "outlinewidth": 0,
             "ticks": ""
            },
            "colorscale": [
             [
              0,
              "#0d0887"
             ],
             [
              0.1111111111111111,
              "#46039f"
             ],
             [
              0.2222222222222222,
              "#7201a8"
             ],
             [
              0.3333333333333333,
              "#9c179e"
             ],
             [
              0.4444444444444444,
              "#bd3786"
             ],
             [
              0.5555555555555556,
              "#d8576b"
             ],
             [
              0.6666666666666666,
              "#ed7953"
             ],
             [
              0.7777777777777778,
              "#fb9f3a"
             ],
             [
              0.8888888888888888,
              "#fdca26"
             ],
             [
              1,
              "#f0f921"
             ]
            ],
            "type": "contour"
           }
          ],
          "contourcarpet": [
           {
            "colorbar": {
             "outlinewidth": 0,
             "ticks": ""
            },
            "type": "contourcarpet"
           }
          ],
          "heatmap": [
           {
            "colorbar": {
             "outlinewidth": 0,
             "ticks": ""
            },
            "colorscale": [
             [
              0,
              "#0d0887"
             ],
             [
              0.1111111111111111,
              "#46039f"
             ],
             [
              0.2222222222222222,
              "#7201a8"
             ],
             [
              0.3333333333333333,
              "#9c179e"
             ],
             [
              0.4444444444444444,
              "#bd3786"
             ],
             [
              0.5555555555555556,
              "#d8576b"
             ],
             [
              0.6666666666666666,
              "#ed7953"
             ],
             [
              0.7777777777777778,
              "#fb9f3a"
             ],
             [
              0.8888888888888888,
              "#fdca26"
             ],
             [
              1,
              "#f0f921"
             ]
            ],
            "type": "heatmap"
           }
          ],
          "heatmapgl": [
           {
            "colorbar": {
             "outlinewidth": 0,
             "ticks": ""
            },
            "colorscale": [
             [
              0,
              "#0d0887"
             ],
             [
              0.1111111111111111,
              "#46039f"
             ],
             [
              0.2222222222222222,
              "#7201a8"
             ],
             [
              0.3333333333333333,
              "#9c179e"
             ],
             [
              0.4444444444444444,
              "#bd3786"
             ],
             [
              0.5555555555555556,
              "#d8576b"
             ],
             [
              0.6666666666666666,
              "#ed7953"
             ],
             [
              0.7777777777777778,
              "#fb9f3a"
             ],
             [
              0.8888888888888888,
              "#fdca26"
             ],
             [
              1,
              "#f0f921"
             ]
            ],
            "type": "heatmapgl"
           }
          ],
          "histogram": [
           {
            "marker": {
             "pattern": {
              "fillmode": "overlay",
              "size": 10,
              "solidity": 0.2
             }
            },
            "type": "histogram"
           }
          ],
          "histogram2d": [
           {
            "colorbar": {
             "outlinewidth": 0,
             "ticks": ""
            },
            "colorscale": [
             [
              0,
              "#0d0887"
             ],
             [
              0.1111111111111111,
              "#46039f"
             ],
             [
              0.2222222222222222,
              "#7201a8"
             ],
             [
              0.3333333333333333,
              "#9c179e"
             ],
             [
              0.4444444444444444,
              "#bd3786"
             ],
             [
              0.5555555555555556,
              "#d8576b"
             ],
             [
              0.6666666666666666,
              "#ed7953"
             ],
             [
              0.7777777777777778,
              "#fb9f3a"
             ],
             [
              0.8888888888888888,
              "#fdca26"
             ],
             [
              1,
              "#f0f921"
             ]
            ],
            "type": "histogram2d"
           }
          ],
          "histogram2dcontour": [
           {
            "colorbar": {
             "outlinewidth": 0,
             "ticks": ""
            },
            "colorscale": [
             [
              0,
              "#0d0887"
             ],
             [
              0.1111111111111111,
              "#46039f"
             ],
             [
              0.2222222222222222,
              "#7201a8"
             ],
             [
              0.3333333333333333,
              "#9c179e"
             ],
             [
              0.4444444444444444,
              "#bd3786"
             ],
             [
              0.5555555555555556,
              "#d8576b"
             ],
             [
              0.6666666666666666,
              "#ed7953"
             ],
             [
              0.7777777777777778,
              "#fb9f3a"
             ],
             [
              0.8888888888888888,
              "#fdca26"
             ],
             [
              1,
              "#f0f921"
             ]
            ],
            "type": "histogram2dcontour"
           }
          ],
          "mesh3d": [
           {
            "colorbar": {
             "outlinewidth": 0,
             "ticks": ""
            },
            "type": "mesh3d"
           }
          ],
          "parcoords": [
           {
            "line": {
             "colorbar": {
              "outlinewidth": 0,
              "ticks": ""
             }
            },
            "type": "parcoords"
           }
          ],
          "pie": [
           {
            "automargin": true,
            "type": "pie"
           }
          ],
          "scatter": [
           {
            "fillpattern": {
             "fillmode": "overlay",
             "size": 10,
             "solidity": 0.2
            },
            "type": "scatter"
           }
          ],
          "scatter3d": [
           {
            "line": {
             "colorbar": {
              "outlinewidth": 0,
              "ticks": ""
             }
            },
            "marker": {
             "colorbar": {
              "outlinewidth": 0,
              "ticks": ""
             }
            },
            "type": "scatter3d"
           }
          ],
          "scattercarpet": [
           {
            "marker": {
             "colorbar": {
              "outlinewidth": 0,
              "ticks": ""
             }
            },
            "type": "scattercarpet"
           }
          ],
          "scattergeo": [
           {
            "marker": {
             "colorbar": {
              "outlinewidth": 0,
              "ticks": ""
             }
            },
            "type": "scattergeo"
           }
          ],
          "scattergl": [
           {
            "marker": {
             "colorbar": {
              "outlinewidth": 0,
              "ticks": ""
             }
            },
            "type": "scattergl"
           }
          ],
          "scattermapbox": [
           {
            "marker": {
             "colorbar": {
              "outlinewidth": 0,
              "ticks": ""
             }
            },
            "type": "scattermapbox"
           }
          ],
          "scatterpolar": [
           {
            "marker": {
             "colorbar": {
              "outlinewidth": 0,
              "ticks": ""
             }
            },
            "type": "scatterpolar"
           }
          ],
          "scatterpolargl": [
           {
            "marker": {
             "colorbar": {
              "outlinewidth": 0,
              "ticks": ""
             }
            },
            "type": "scatterpolargl"
           }
          ],
          "scatterternary": [
           {
            "marker": {
             "colorbar": {
              "outlinewidth": 0,
              "ticks": ""
             }
            },
            "type": "scatterternary"
           }
          ],
          "surface": [
           {
            "colorbar": {
             "outlinewidth": 0,
             "ticks": ""
            },
            "colorscale": [
             [
              0,
              "#0d0887"
             ],
             [
              0.1111111111111111,
              "#46039f"
             ],
             [
              0.2222222222222222,
              "#7201a8"
             ],
             [
              0.3333333333333333,
              "#9c179e"
             ],
             [
              0.4444444444444444,
              "#bd3786"
             ],
             [
              0.5555555555555556,
              "#d8576b"
             ],
             [
              0.6666666666666666,
              "#ed7953"
             ],
             [
              0.7777777777777778,
              "#fb9f3a"
             ],
             [
              0.8888888888888888,
              "#fdca26"
             ],
             [
              1,
              "#f0f921"
             ]
            ],
            "type": "surface"
           }
          ],
          "table": [
           {
            "cells": {
             "fill": {
              "color": "#EBF0F8"
             },
             "line": {
              "color": "white"
             }
            },
            "header": {
             "fill": {
              "color": "#C8D4E3"
             },
             "line": {
              "color": "white"
             }
            },
            "type": "table"
           }
          ]
         },
         "layout": {
          "annotationdefaults": {
           "arrowcolor": "#2a3f5f",
           "arrowhead": 0,
           "arrowwidth": 1
          },
          "autotypenumbers": "strict",
          "coloraxis": {
           "colorbar": {
            "outlinewidth": 0,
            "ticks": ""
           }
          },
          "colorscale": {
           "diverging": [
            [
             0,
             "#8e0152"
            ],
            [
             0.1,
             "#c51b7d"
            ],
            [
             0.2,
             "#de77ae"
            ],
            [
             0.3,
             "#f1b6da"
            ],
            [
             0.4,
             "#fde0ef"
            ],
            [
             0.5,
             "#f7f7f7"
            ],
            [
             0.6,
             "#e6f5d0"
            ],
            [
             0.7,
             "#b8e186"
            ],
            [
             0.8,
             "#7fbc41"
            ],
            [
             0.9,
             "#4d9221"
            ],
            [
             1,
             "#276419"
            ]
           ],
           "sequential": [
            [
             0,
             "#0d0887"
            ],
            [
             0.1111111111111111,
             "#46039f"
            ],
            [
             0.2222222222222222,
             "#7201a8"
            ],
            [
             0.3333333333333333,
             "#9c179e"
            ],
            [
             0.4444444444444444,
             "#bd3786"
            ],
            [
             0.5555555555555556,
             "#d8576b"
            ],
            [
             0.6666666666666666,
             "#ed7953"
            ],
            [
             0.7777777777777778,
             "#fb9f3a"
            ],
            [
             0.8888888888888888,
             "#fdca26"
            ],
            [
             1,
             "#f0f921"
            ]
           ],
           "sequentialminus": [
            [
             0,
             "#0d0887"
            ],
            [
             0.1111111111111111,
             "#46039f"
            ],
            [
             0.2222222222222222,
             "#7201a8"
            ],
            [
             0.3333333333333333,
             "#9c179e"
            ],
            [
             0.4444444444444444,
             "#bd3786"
            ],
            [
             0.5555555555555556,
             "#d8576b"
            ],
            [
             0.6666666666666666,
             "#ed7953"
            ],
            [
             0.7777777777777778,
             "#fb9f3a"
            ],
            [
             0.8888888888888888,
             "#fdca26"
            ],
            [
             1,
             "#f0f921"
            ]
           ]
          },
          "colorway": [
           "#636efa",
           "#EF553B",
           "#00cc96",
           "#ab63fa",
           "#FFA15A",
           "#19d3f3",
           "#FF6692",
           "#B6E880",
           "#FF97FF",
           "#FECB52"
          ],
          "font": {
           "color": "#2a3f5f"
          },
          "geo": {
           "bgcolor": "white",
           "lakecolor": "white",
           "landcolor": "#E5ECF6",
           "showlakes": true,
           "showland": true,
           "subunitcolor": "white"
          },
          "hoverlabel": {
           "align": "left"
          },
          "hovermode": "closest",
          "mapbox": {
           "style": "light"
          },
          "paper_bgcolor": "white",
          "plot_bgcolor": "#E5ECF6",
          "polar": {
           "angularaxis": {
            "gridcolor": "white",
            "linecolor": "white",
            "ticks": ""
           },
           "bgcolor": "#E5ECF6",
           "radialaxis": {
            "gridcolor": "white",
            "linecolor": "white",
            "ticks": ""
           }
          },
          "scene": {
           "xaxis": {
            "backgroundcolor": "#E5ECF6",
            "gridcolor": "white",
            "gridwidth": 2,
            "linecolor": "white",
            "showbackground": true,
            "ticks": "",
            "zerolinecolor": "white"
           },
           "yaxis": {
            "backgroundcolor": "#E5ECF6",
            "gridcolor": "white",
            "gridwidth": 2,
            "linecolor": "white",
            "showbackground": true,
            "ticks": "",
            "zerolinecolor": "white"
           },
           "zaxis": {
            "backgroundcolor": "#E5ECF6",
            "gridcolor": "white",
            "gridwidth": 2,
            "linecolor": "white",
            "showbackground": true,
            "ticks": "",
            "zerolinecolor": "white"
           }
          },
          "shapedefaults": {
           "line": {
            "color": "#2a3f5f"
           }
          },
          "ternary": {
           "aaxis": {
            "gridcolor": "white",
            "linecolor": "white",
            "ticks": ""
           },
           "baxis": {
            "gridcolor": "white",
            "linecolor": "white",
            "ticks": ""
           },
           "bgcolor": "#E5ECF6",
           "caxis": {
            "gridcolor": "white",
            "linecolor": "white",
            "ticks": ""
           }
          },
          "title": {
           "x": 0.05
          },
          "xaxis": {
           "automargin": true,
           "gridcolor": "white",
           "linecolor": "white",
           "ticks": "",
           "title": {
            "standoff": 15
           },
           "zerolinecolor": "white",
           "zerolinewidth": 2
          },
          "yaxis": {
           "automargin": true,
           "gridcolor": "white",
           "linecolor": "white",
           "ticks": "",
           "title": {
            "standoff": 15
           },
           "zerolinecolor": "white",
           "zerolinewidth": 2
          }
         }
        }
       }
      }
     },
     "metadata": {},
     "output_type": "display_data"
    }
   ],
   "source": [
    "\n",
    "psr_df_corr = psr_df.corr()\n",
    "\n",
    "fig = go.Figure()\n",
    "\n",
    "fig.add_trace(\n",
    "    go.Heatmap(\n",
    "        x = psr_df_corr.columns,\n",
    "        y = psr_df_corr.index,\n",
    "        z = np.array(psr_df_corr),\n",
    "        text= psr_df_corr.values,\n",
    "        texttemplate='%{text:.2f}'\n",
    " \n",
    "    )\n",
    ")\n",
    "fig.show()"
   ]
  },
  {
   "cell_type": "code",
   "execution_count": null,
   "metadata": {},
   "outputs": [],
   "source": []
  }
 ],
 "metadata": {
  "kernelspec": {
   "display_name": "Python 3.10.6 ('gis_env': conda)",
   "language": "python",
   "name": "python3"
  },
  "language_info": {
   "codemirror_mode": {
    "name": "ipython",
    "version": 3
   },
   "file_extension": ".py",
   "mimetype": "text/x-python",
   "name": "python",
   "nbconvert_exporter": "python",
   "pygments_lexer": "ipython3",
   "version": "3.10.6"
  },
  "orig_nbformat": 4,
  "vscode": {
   "interpreter": {
    "hash": "1b9e7c2ea28868547de4e8fa83b847dd5adaa7ee059c2730ea8783ea0843a309"
   }
  }
 },
 "nbformat": 4,
 "nbformat_minor": 2
}
